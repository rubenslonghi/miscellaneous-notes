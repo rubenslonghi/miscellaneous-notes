{
 "cells": [
  {
   "cell_type": "code",
   "execution_count": 1,
   "id": "2b518fdf",
   "metadata": {},
   "outputs": [],
   "source": [
    "%display latex"
   ]
  },
  {
   "cell_type": "markdown",
   "id": "a7c4809c",
   "metadata": {},
   "source": [
    "We want to simplify the expression $\\newcommand{\\Bold}[1]{\\mathbf{#1}}{\\sum_{k=1}^{N - 1} \\sin\\left(\\frac{\\pi a k}{N}\\right) \\sin\\left(\\frac{\\pi b k}{N}\\right)}$ for $N,a,b$ integers and prove that\n",
    "$$\\newcommand{\\Bold}[1]{\\mathbf{#1}}{\\sum_{k=1}^{N - 1} \\sin\\left(\\frac{\\pi a k}{N}\\right) \\sin\\left(\\frac{\\pi b k}{N}\\right)}=\\frac{N}{2}\\delta_{a,b}$$"
   ]
  },
  {
   "cell_type": "markdown",
   "id": "a510121a",
   "metadata": {},
   "source": [
    "We start \\*without\\* assuming that $a,b$ are integers. Note that we use ```hold=True``` to make sure that the expression is not evaluated"
   ]
  },
  {
   "cell_type": "code",
   "execution_count": 2,
   "id": "aec727c0",
   "metadata": {},
   "outputs": [
    {
     "data": {
      "text/html": [
       "<html><script type=\"math/tex; mode=display\">\\newcommand{\\Bold}[1]{\\mathbf{#1}}{\\sum_{k=1}^{N - 1} \\sin\\left(\\frac{\\pi a k}{N}\\right) \\sin\\left(\\frac{\\pi b k}{N}\\right)}</script></html>"
      ],
      "text/latex": [
       "$$\\newcommand{\\Bold}[1]{\\mathbf{#1}}{\\sum_{k=1}^{N - 1} \\sin\\left(\\frac{\\pi a k}{N}\\right) \\sin\\left(\\frac{\\pi b k}{N}\\right)}$$"
      ],
      "text/plain": [
       "sum(sin(pi*a*k/N)*sin(pi*b*k/N), k, 1, N - 1)"
      ]
     },
     "execution_count": 2,
     "metadata": {},
     "output_type": "execute_result"
    }
   ],
   "source": [
    "a,b, N = var('a','b', 'N')\n",
    "assume(N, 'integer')\n",
    "x,y, k = var('x','y', 'k')\n",
    "f = sum(sin((pi/N)*a*k)*sin((pi/N)*b*k),k,1,(N-1),hold=True)\n",
    "f"
   ]
  },
  {
   "cell_type": "markdown",
   "id": "74a4c068",
   "metadata": {},
   "source": [
    "Now we unhold the expression"
   ]
  },
  {
   "cell_type": "code",
   "execution_count": 3,
   "id": "043799b6",
   "metadata": {},
   "outputs": [
    {
     "data": {
      "text/html": [
       "<html><script type=\"math/tex; mode=display\">\\newcommand{\\Bold}[1]{\\mathbf{#1}}\\frac{{\\left(\\cos\\left(-\\frac{\\pi a}{N} + \\frac{\\pi b}{N}\\right) - 1\\right)} \\sin\\left(\\pi a + \\pi b\\right) \\sin\\left(\\frac{\\pi a}{N} + \\frac{\\pi b}{N}\\right) - {\\left(\\cos\\left(-\\frac{\\pi a}{N} + \\frac{\\pi b}{N}\\right) - 1\\right)} \\cos\\left(\\pi a + \\pi b\\right) + {\\left({\\left(\\cos\\left(-\\frac{\\pi a}{N} + \\frac{\\pi b}{N}\\right) - 1\\right)} \\cos\\left(\\pi a + \\pi b\\right) - \\cos\\left(-\\pi a + \\pi b\\right) \\cos\\left(-\\frac{\\pi a}{N} + \\frac{\\pi b}{N}\\right) - \\sin\\left(-\\pi a + \\pi b\\right) \\sin\\left(-\\frac{\\pi a}{N} + \\frac{\\pi b}{N}\\right) + \\cos\\left(-\\pi a + \\pi b\\right)\\right)} \\cos\\left(\\frac{\\pi a}{N} + \\frac{\\pi b}{N}\\right) + \\cos\\left(-\\pi a + \\pi b\\right) \\cos\\left(-\\frac{\\pi a}{N} + \\frac{\\pi b}{N}\\right) + \\sin\\left(-\\pi a + \\pi b\\right) \\sin\\left(-\\frac{\\pi a}{N} + \\frac{\\pi b}{N}\\right) - \\cos\\left(-\\pi a + \\pi b\\right)}{4 \\, {\\left({\\left(\\cos\\left(-\\frac{\\pi a}{N} + \\frac{\\pi b}{N}\\right) - 1\\right)} \\cos\\left(\\frac{\\pi a}{N} + \\frac{\\pi b}{N}\\right) - \\cos\\left(-\\frac{\\pi a}{N} + \\frac{\\pi b}{N}\\right) + 1\\right)}}</script></html>"
      ],
      "text/latex": [
       "$$\\newcommand{\\Bold}[1]{\\mathbf{#1}}\\frac{{\\left(\\cos\\left(-\\frac{\\pi a}{N} + \\frac{\\pi b}{N}\\right) - 1\\right)} \\sin\\left(\\pi a + \\pi b\\right) \\sin\\left(\\frac{\\pi a}{N} + \\frac{\\pi b}{N}\\right) - {\\left(\\cos\\left(-\\frac{\\pi a}{N} + \\frac{\\pi b}{N}\\right) - 1\\right)} \\cos\\left(\\pi a + \\pi b\\right) + {\\left({\\left(\\cos\\left(-\\frac{\\pi a}{N} + \\frac{\\pi b}{N}\\right) - 1\\right)} \\cos\\left(\\pi a + \\pi b\\right) - \\cos\\left(-\\pi a + \\pi b\\right) \\cos\\left(-\\frac{\\pi a}{N} + \\frac{\\pi b}{N}\\right) - \\sin\\left(-\\pi a + \\pi b\\right) \\sin\\left(-\\frac{\\pi a}{N} + \\frac{\\pi b}{N}\\right) + \\cos\\left(-\\pi a + \\pi b\\right)\\right)} \\cos\\left(\\frac{\\pi a}{N} + \\frac{\\pi b}{N}\\right) + \\cos\\left(-\\pi a + \\pi b\\right) \\cos\\left(-\\frac{\\pi a}{N} + \\frac{\\pi b}{N}\\right) + \\sin\\left(-\\pi a + \\pi b\\right) \\sin\\left(-\\frac{\\pi a}{N} + \\frac{\\pi b}{N}\\right) - \\cos\\left(-\\pi a + \\pi b\\right)}{4 \\, {\\left({\\left(\\cos\\left(-\\frac{\\pi a}{N} + \\frac{\\pi b}{N}\\right) - 1\\right)} \\cos\\left(\\frac{\\pi a}{N} + \\frac{\\pi b}{N}\\right) - \\cos\\left(-\\frac{\\pi a}{N} + \\frac{\\pi b}{N}\\right) + 1\\right)}}$$"
      ],
      "text/plain": [
       "1/4*((cos(-pi*a/N + pi*b/N) - 1)*sin(pi*a + pi*b)*sin(pi*a/N + pi*b/N) - (cos(-pi*a/N + pi*b/N) - 1)*cos(pi*a + pi*b) + ((cos(-pi*a/N + pi*b/N) - 1)*cos(pi*a + pi*b) - cos(-pi*a + pi*b)*cos(-pi*a/N + pi*b/N) - sin(-pi*a + pi*b)*sin(-pi*a/N + pi*b/N) + cos(-pi*a + pi*b))*cos(pi*a/N + pi*b/N) + cos(-pi*a + pi*b)*cos(-pi*a/N + pi*b/N) + sin(-pi*a + pi*b)*sin(-pi*a/N + pi*b/N) - cos(-pi*a + pi*b))/((cos(-pi*a/N + pi*b/N) - 1)*cos(pi*a/N + pi*b/N) - cos(-pi*a/N + pi*b/N) + 1)"
      ]
     },
     "metadata": {},
     "output_type": "display_data"
    }
   ],
   "source": [
    "show(f.unhold())"
   ]
  },
  {
   "cell_type": "markdown",
   "id": "0654d8f4",
   "metadata": {},
   "source": [
    "Note that Sage does not recognize that f is a Kronecker delta"
   ]
  },
  {
   "cell_type": "code",
   "execution_count": 4,
   "id": "8316c6f6",
   "metadata": {},
   "outputs": [
    {
     "data": {
      "text/html": [
       "<html><script type=\"math/tex; mode=display\">\\newcommand{\\Bold}[1]{\\mathbf{#1}}\\mathrm{False}</script></html>"
      ],
      "text/latex": [
       "$$\\newcommand{\\Bold}[1]{\\mathbf{#1}}\\mathrm{False}$$"
      ],
      "text/plain": [
       "False"
      ]
     },
     "execution_count": 4,
     "metadata": {},
     "output_type": "execute_result"
    }
   ],
   "source": [
    "bool(f==(N/2)*kronecker_delta(a,b))"
   ]
  },
  {
   "cell_type": "markdown",
   "id": "111c9d63",
   "metadata": {},
   "source": [
    "If we assume $a,b$ to be integers now, the expression simplifies to zero, which is clearly incorrect, as shown later"
   ]
  },
  {
   "cell_type": "code",
   "execution_count": 5,
   "id": "497b57d3",
   "metadata": {},
   "outputs": [
    {
     "data": {
      "text/html": [
       "<html><script type=\"math/tex; mode=display\">\\newcommand{\\Bold}[1]{\\mathbf{#1}}0</script></html>"
      ],
      "text/latex": [
       "$$\\newcommand{\\Bold}[1]{\\mathbf{#1}}0$$"
      ],
      "text/plain": [
       "0"
      ]
     },
     "metadata": {},
     "output_type": "display_data"
    }
   ],
   "source": [
    "a1 = assuming(a,b, 'integer')\n",
    "with a1: show(f.unhold())"
   ]
  },
  {
   "cell_type": "markdown",
   "id": "7c54b1af",
   "metadata": {},
   "source": [
    "Here we check that indeed if $a=b=:c$ the sum evaluates to $N/2$"
   ]
  },
  {
   "cell_type": "code",
   "execution_count": 6,
   "id": "e6b018e9",
   "metadata": {},
   "outputs": [
    {
     "data": {
      "text/html": [
       "<html><script type=\"math/tex; mode=display\">\\newcommand{\\Bold}[1]{\\mathbf{#1}}{\\sum_{k=1}^{N - 1} \\sin\\left(\\frac{\\pi c k}{N}\\right)^{2}}</script></html>"
      ],
      "text/latex": [
       "$$\\newcommand{\\Bold}[1]{\\mathbf{#1}}{\\sum_{k=1}^{N - 1} \\sin\\left(\\frac{\\pi c k}{N}\\right)^{2}}$$"
      ],
      "text/plain": [
       "sum(sin(pi*c*k/N)^2, k, 1, N - 1)"
      ]
     },
     "execution_count": 6,
     "metadata": {},
     "output_type": "execute_result"
    }
   ],
   "source": [
    "c = var('c')\n",
    "forget(c, 'integer')\n",
    "g = sum(sin((pi/N)*c*k)*sin((pi/N)*c*k),k,1,(N-1),hold=True)\n",
    "g"
   ]
  },
  {
   "cell_type": "code",
   "execution_count": 7,
   "id": "98704cca",
   "metadata": {},
   "outputs": [
    {
     "data": {
      "text/html": [
       "<html><script type=\"math/tex; mode=display\">\\newcommand{\\Bold}[1]{\\mathbf{#1}}\\frac{{\\left(2 \\, N + \\cos\\left(2 \\, \\pi c\\right) - 1\\right)} \\cos\\left(\\frac{2 \\, \\pi c}{N}\\right) + \\sin\\left(2 \\, \\pi c\\right) \\sin\\left(\\frac{2 \\, \\pi c}{N}\\right) - 2 \\, N - \\cos\\left(2 \\, \\pi c\\right) + 1}{4 \\, {\\left(\\cos\\left(\\frac{2 \\, \\pi c}{N}\\right) - 1\\right)}}</script></html>"
      ],
      "text/latex": [
       "$$\\newcommand{\\Bold}[1]{\\mathbf{#1}}\\frac{{\\left(2 \\, N + \\cos\\left(2 \\, \\pi c\\right) - 1\\right)} \\cos\\left(\\frac{2 \\, \\pi c}{N}\\right) + \\sin\\left(2 \\, \\pi c\\right) \\sin\\left(\\frac{2 \\, \\pi c}{N}\\right) - 2 \\, N - \\cos\\left(2 \\, \\pi c\\right) + 1}{4 \\, {\\left(\\cos\\left(\\frac{2 \\, \\pi c}{N}\\right) - 1\\right)}}$$"
      ],
      "text/plain": [
       "1/4*((2*N + cos(2*pi*c) - 1)*cos(2*pi*c/N) + sin(2*pi*c)*sin(2*pi*c/N) - 2*N - cos(2*pi*c) + 1)/(cos(2*pi*c/N) - 1)"
      ]
     },
     "metadata": {},
     "output_type": "display_data"
    }
   ],
   "source": [
    "show(g.unhold())"
   ]
  },
  {
   "cell_type": "code",
   "execution_count": 40,
   "id": "d1fd0de8",
   "metadata": {},
   "outputs": [],
   "source": [
    "forget()"
   ]
  },
  {
   "cell_type": "markdown",
   "id": "993c3ee8",
   "metadata": {},
   "source": [
    "We now want to simplify the expression $$\\newcommand{\\Bold}[1]{\\mathbf{#1}}{\\sum_{k=1}^{N - 1} \\sin\\left(\\frac{\\pi a k}{N}\\right) \\sin\\left(\\frac{\\pi b k}{N}\\right) \\sin\\left(\\frac{\\pi c k}{N} - \\frac{\\pi c}{N}\\right)},$$ where $a,b,c$ are integers, $N$ is natural and $1\\leq c\\leq N$.\n",
    "Let us first try and take a look at the outcome without making any further assumption on $a,b,c$."
   ]
  },
  {
   "cell_type": "code",
   "execution_count": 41,
   "id": "cd352053",
   "metadata": {},
   "outputs": [
    {
     "data": {
      "text/html": [
       "<html><script type=\"math/tex; mode=display\">\\newcommand{\\Bold}[1]{\\mathbf{#1}}{\\sum_{k=1}^{N - 1} \\sin\\left(\\frac{\\pi a k}{N}\\right) \\sin\\left(\\frac{\\pi b k}{N}\\right) \\sin\\left(\\frac{\\pi c k}{N} - \\frac{\\pi c}{N}\\right)}</script></html>"
      ],
      "text/latex": [
       "$$\\newcommand{\\Bold}[1]{\\mathbf{#1}}{\\sum_{k=1}^{N - 1} \\sin\\left(\\frac{\\pi a k}{N}\\right) \\sin\\left(\\frac{\\pi b k}{N}\\right) \\sin\\left(\\frac{\\pi c k}{N} - \\frac{\\pi c}{N}\\right)}$$"
      ],
      "text/plain": [
       "sum(sin(pi*a*k/N)*sin(pi*b*k/N)*sin(pi*c*k/N - pi*c/N), k, 1, N - 1)"
      ]
     },
     "execution_count": 41,
     "metadata": {},
     "output_type": "execute_result"
    }
   ],
   "source": [
    "a,b, c, N = var('a','b', 'c', 'N')\n",
    "assume(a,b,c, N, 'integer')\n",
    "#assume(a,b, 'even')\n",
    "#assume(c, 'odd')\n",
    "assume(1 <= c <=N)\n",
    "x,y, k = var('x','y', 'k')\n",
    "f = sum(sin((pi/N)*a*k)*sin((pi/N)*b*k)*sin((pi/N)*c*(k-1)),k,1,(N-1),hold=True)\n",
    "f"
   ]
  },
  {
   "cell_type": "code",
   "execution_count": 39,
   "id": "e7681193",
   "metadata": {},
   "outputs": [
    {
     "data": {
      "text/html": [
       "<html><script type=\"math/tex; mode=display\">\\newcommand{\\Bold}[1]{\\mathbf{#1}}-\\frac{{\\left(\\left(-1\\right)^{a + b} - \\left(-1\\right)^{c}\\right)} \\cos\\left(\\frac{\\pi a}{N} - \\frac{\\pi b}{N} + \\frac{\\pi c}{N}\\right) \\sin\\left(-\\frac{\\pi a}{N} - \\frac{\\pi b}{N} + \\frac{\\pi c}{N}\\right) - {\\left({\\left(\\left(-1\\right)^{a + b} - \\left(-1\\right)^{c}\\right)} \\cos\\left(\\frac{\\pi a}{N} - \\frac{\\pi b}{N} + \\frac{\\pi c}{N}\\right) \\sin\\left(-\\frac{\\pi a}{N} - \\frac{\\pi b}{N} + \\frac{\\pi c}{N}\\right) - {\\left({\\left(\\left(-1\\right)^{a + b} - \\left(-1\\right)^{c}\\right)} \\cos\\left(\\frac{\\pi a}{N} - \\frac{\\pi b}{N} + \\frac{\\pi c}{N}\\right) \\sin\\left(-\\frac{\\pi a}{N} - \\frac{\\pi b}{N} + \\frac{\\pi c}{N}\\right) - {\\left({\\left(\\left(-1\\right)^{a + b} - \\left(-1\\right)^{c}\\right)} \\cos\\left(-\\frac{\\pi a}{N} - \\frac{\\pi b}{N} + \\frac{\\pi c}{N}\\right) - \\left(-1\\right)^{a + b} + \\left(-1\\right)^{c}\\right)} \\sin\\left(\\frac{\\pi a}{N} - \\frac{\\pi b}{N} + \\frac{\\pi c}{N}\\right) - {\\left(\\left(-1\\right)^{a + b} - \\left(-1\\right)^{c}\\right)} \\sin\\left(-\\frac{\\pi a}{N} - \\frac{\\pi b}{N} + \\frac{\\pi c}{N}\\right)\\right)} \\cos\\left(-\\frac{\\pi a}{N} + \\frac{\\pi b}{N} + \\frac{\\pi c}{N}\\right) - {\\left({\\left(\\left(-1\\right)^{a + b} - \\left(-1\\right)^{c}\\right)} \\cos\\left(-\\frac{\\pi a}{N} - \\frac{\\pi b}{N} + \\frac{\\pi c}{N}\\right) - \\left(-1\\right)^{a + b} + \\left(-1\\right)^{c}\\right)} \\sin\\left(\\frac{\\pi a}{N} - \\frac{\\pi b}{N} + \\frac{\\pi c}{N}\\right) + {\\left({\\left({\\left(\\left(-1\\right)^{a + b} - \\left(-1\\right)^{c}\\right)} \\cos\\left(-\\frac{\\pi a}{N} - \\frac{\\pi b}{N} + \\frac{\\pi c}{N}\\right) - \\left(-1\\right)^{a + b} + \\left(-1\\right)^{c}\\right)} \\cos\\left(\\frac{\\pi a}{N} - \\frac{\\pi b}{N} + \\frac{\\pi c}{N}\\right) - {\\left(\\left(-1\\right)^{a + b} - \\left(-1\\right)^{c}\\right)} \\cos\\left(-\\frac{\\pi a}{N} - \\frac{\\pi b}{N} + \\frac{\\pi c}{N}\\right) + \\left(-1\\right)^{a + b} - \\left(-1\\right)^{c}\\right)} \\sin\\left(-\\frac{\\pi a}{N} + \\frac{\\pi b}{N} + \\frac{\\pi c}{N}\\right) - {\\left(\\left(-1\\right)^{a + b} - \\left(-1\\right)^{c}\\right)} \\sin\\left(-\\frac{\\pi a}{N} - \\frac{\\pi b}{N} + \\frac{\\pi c}{N}\\right)\\right)} \\cos\\left(\\frac{\\pi a}{N} + \\frac{\\pi b}{N} + \\frac{\\pi c}{N}\\right) - {\\left({\\left(\\left(-1\\right)^{a + b} - \\left(-1\\right)^{c}\\right)} \\cos\\left(\\frac{\\pi a}{N} - \\frac{\\pi b}{N} + \\frac{\\pi c}{N}\\right) \\sin\\left(-\\frac{\\pi a}{N} - \\frac{\\pi b}{N} + \\frac{\\pi c}{N}\\right) - {\\left({\\left(\\left(-1\\right)^{a + b} - \\left(-1\\right)^{c}\\right)} \\cos\\left(-\\frac{\\pi a}{N} - \\frac{\\pi b}{N} + \\frac{\\pi c}{N}\\right) - \\left(-1\\right)^{a + b} + \\left(-1\\right)^{c}\\right)} \\sin\\left(\\frac{\\pi a}{N} - \\frac{\\pi b}{N} + \\frac{\\pi c}{N}\\right) - {\\left(\\left(-1\\right)^{a + b} - \\left(-1\\right)^{c}\\right)} \\sin\\left(-\\frac{\\pi a}{N} - \\frac{\\pi b}{N} + \\frac{\\pi c}{N}\\right)\\right)} \\cos\\left(-\\frac{\\pi a}{N} + \\frac{\\pi b}{N} + \\frac{\\pi c}{N}\\right) - {\\left({\\left({\\left(\\left(-1\\right)^{a + b} - \\left(-1\\right)^{c}\\right)} \\cos\\left(-\\frac{\\pi a}{N} - \\frac{\\pi b}{N} + \\frac{\\pi c}{N}\\right) - \\left(-1\\right)^{a + b} + \\left(-1\\right)^{c}\\right)} \\cos\\left(\\frac{\\pi a}{N} - \\frac{\\pi b}{N} + \\frac{\\pi c}{N}\\right) - {\\left({\\left({\\left(\\left(-1\\right)^{a + b} - \\left(-1\\right)^{c}\\right)} \\cos\\left(-\\frac{\\pi a}{N} - \\frac{\\pi b}{N} + \\frac{\\pi c}{N}\\right) - \\left(-1\\right)^{a + b} + \\left(-1\\right)^{c}\\right)} \\cos\\left(\\frac{\\pi a}{N} - \\frac{\\pi b}{N} + \\frac{\\pi c}{N}\\right) - {\\left(\\left(-1\\right)^{a + b} - \\left(-1\\right)^{c}\\right)} \\cos\\left(-\\frac{\\pi a}{N} - \\frac{\\pi b}{N} + \\frac{\\pi c}{N}\\right) + \\left(-1\\right)^{a + b} - \\left(-1\\right)^{c}\\right)} \\cos\\left(-\\frac{\\pi a}{N} + \\frac{\\pi b}{N} + \\frac{\\pi c}{N}\\right) - {\\left(\\left(-1\\right)^{a + b} - \\left(-1\\right)^{c}\\right)} \\cos\\left(-\\frac{\\pi a}{N} - \\frac{\\pi b}{N} + \\frac{\\pi c}{N}\\right) + \\left(-1\\right)^{a + b} - \\left(-1\\right)^{c}\\right)} \\sin\\left(\\frac{\\pi a}{N} + \\frac{\\pi b}{N} + \\frac{\\pi c}{N}\\right) - {\\left({\\left(\\left(-1\\right)^{a + b} - \\left(-1\\right)^{c}\\right)} \\cos\\left(-\\frac{\\pi a}{N} - \\frac{\\pi b}{N} + \\frac{\\pi c}{N}\\right) - \\left(-1\\right)^{a + b} + \\left(-1\\right)^{c}\\right)} \\sin\\left(\\frac{\\pi a}{N} - \\frac{\\pi b}{N} + \\frac{\\pi c}{N}\\right) + {\\left({\\left({\\left(\\left(-1\\right)^{a + b} - \\left(-1\\right)^{c}\\right)} \\cos\\left(-\\frac{\\pi a}{N} - \\frac{\\pi b}{N} + \\frac{\\pi c}{N}\\right) - \\left(-1\\right)^{a + b} + \\left(-1\\right)^{c}\\right)} \\cos\\left(\\frac{\\pi a}{N} - \\frac{\\pi b}{N} + \\frac{\\pi c}{N}\\right) - {\\left(\\left(-1\\right)^{a + b} - \\left(-1\\right)^{c}\\right)} \\cos\\left(-\\frac{\\pi a}{N} - \\frac{\\pi b}{N} + \\frac{\\pi c}{N}\\right) + \\left(-1\\right)^{a + b} - \\left(-1\\right)^{c}\\right)} \\sin\\left(-\\frac{\\pi a}{N} + \\frac{\\pi b}{N} + \\frac{\\pi c}{N}\\right) - {\\left(\\left(-1\\right)^{a + b} - \\left(-1\\right)^{c}\\right)} \\sin\\left(-\\frac{\\pi a}{N} - \\frac{\\pi b}{N} + \\frac{\\pi c}{N}\\right)}{8 \\, {\\left({\\left({\\left(\\left(-1\\right)^{a + b} \\cos\\left(-\\frac{\\pi a}{N} - \\frac{\\pi b}{N} + \\frac{\\pi c}{N}\\right) - \\left(-1\\right)^{a + b}\\right)} \\cos\\left(\\frac{\\pi a}{N} - \\frac{\\pi b}{N} + \\frac{\\pi c}{N}\\right) - {\\left({\\left(\\left(-1\\right)^{a + b} \\cos\\left(-\\frac{\\pi a}{N} - \\frac{\\pi b}{N} + \\frac{\\pi c}{N}\\right) - \\left(-1\\right)^{a + b}\\right)} \\cos\\left(\\frac{\\pi a}{N} - \\frac{\\pi b}{N} + \\frac{\\pi c}{N}\\right) - \\left(-1\\right)^{a + b} \\cos\\left(-\\frac{\\pi a}{N} - \\frac{\\pi b}{N} + \\frac{\\pi c}{N}\\right) + \\left(-1\\right)^{a + b}\\right)} \\cos\\left(-\\frac{\\pi a}{N} + \\frac{\\pi b}{N} + \\frac{\\pi c}{N}\\right) - \\left(-1\\right)^{a + b} \\cos\\left(-\\frac{\\pi a}{N} - \\frac{\\pi b}{N} + \\frac{\\pi c}{N}\\right) + \\left(-1\\right)^{a + b}\\right)} \\cos\\left(\\frac{\\pi a}{N} + \\frac{\\pi b}{N} + \\frac{\\pi c}{N}\\right) - {\\left(\\left(-1\\right)^{a + b} \\cos\\left(-\\frac{\\pi a}{N} - \\frac{\\pi b}{N} + \\frac{\\pi c}{N}\\right) - \\left(-1\\right)^{a + b}\\right)} \\cos\\left(\\frac{\\pi a}{N} - \\frac{\\pi b}{N} + \\frac{\\pi c}{N}\\right) + {\\left({\\left(\\left(-1\\right)^{a + b} \\cos\\left(-\\frac{\\pi a}{N} - \\frac{\\pi b}{N} + \\frac{\\pi c}{N}\\right) - \\left(-1\\right)^{a + b}\\right)} \\cos\\left(\\frac{\\pi a}{N} - \\frac{\\pi b}{N} + \\frac{\\pi c}{N}\\right) - \\left(-1\\right)^{a + b} \\cos\\left(-\\frac{\\pi a}{N} - \\frac{\\pi b}{N} + \\frac{\\pi c}{N}\\right) + \\left(-1\\right)^{a + b}\\right)} \\cos\\left(-\\frac{\\pi a}{N} + \\frac{\\pi b}{N} + \\frac{\\pi c}{N}\\right) + \\left(-1\\right)^{a + b} \\cos\\left(-\\frac{\\pi a}{N} - \\frac{\\pi b}{N} + \\frac{\\pi c}{N}\\right) - \\left(-1\\right)^{a + b}\\right)}}</script></html>"
      ],
      "text/latex": [
       "$$\\newcommand{\\Bold}[1]{\\mathbf{#1}}-\\frac{{\\left(\\left(-1\\right)^{a + b} - \\left(-1\\right)^{c}\\right)} \\cos\\left(\\frac{\\pi a}{N} - \\frac{\\pi b}{N} + \\frac{\\pi c}{N}\\right) \\sin\\left(-\\frac{\\pi a}{N} - \\frac{\\pi b}{N} + \\frac{\\pi c}{N}\\right) - {\\left({\\left(\\left(-1\\right)^{a + b} - \\left(-1\\right)^{c}\\right)} \\cos\\left(\\frac{\\pi a}{N} - \\frac{\\pi b}{N} + \\frac{\\pi c}{N}\\right) \\sin\\left(-\\frac{\\pi a}{N} - \\frac{\\pi b}{N} + \\frac{\\pi c}{N}\\right) - {\\left({\\left(\\left(-1\\right)^{a + b} - \\left(-1\\right)^{c}\\right)} \\cos\\left(\\frac{\\pi a}{N} - \\frac{\\pi b}{N} + \\frac{\\pi c}{N}\\right) \\sin\\left(-\\frac{\\pi a}{N} - \\frac{\\pi b}{N} + \\frac{\\pi c}{N}\\right) - {\\left({\\left(\\left(-1\\right)^{a + b} - \\left(-1\\right)^{c}\\right)} \\cos\\left(-\\frac{\\pi a}{N} - \\frac{\\pi b}{N} + \\frac{\\pi c}{N}\\right) - \\left(-1\\right)^{a + b} + \\left(-1\\right)^{c}\\right)} \\sin\\left(\\frac{\\pi a}{N} - \\frac{\\pi b}{N} + \\frac{\\pi c}{N}\\right) - {\\left(\\left(-1\\right)^{a + b} - \\left(-1\\right)^{c}\\right)} \\sin\\left(-\\frac{\\pi a}{N} - \\frac{\\pi b}{N} + \\frac{\\pi c}{N}\\right)\\right)} \\cos\\left(-\\frac{\\pi a}{N} + \\frac{\\pi b}{N} + \\frac{\\pi c}{N}\\right) - {\\left({\\left(\\left(-1\\right)^{a + b} - \\left(-1\\right)^{c}\\right)} \\cos\\left(-\\frac{\\pi a}{N} - \\frac{\\pi b}{N} + \\frac{\\pi c}{N}\\right) - \\left(-1\\right)^{a + b} + \\left(-1\\right)^{c}\\right)} \\sin\\left(\\frac{\\pi a}{N} - \\frac{\\pi b}{N} + \\frac{\\pi c}{N}\\right) + {\\left({\\left({\\left(\\left(-1\\right)^{a + b} - \\left(-1\\right)^{c}\\right)} \\cos\\left(-\\frac{\\pi a}{N} - \\frac{\\pi b}{N} + \\frac{\\pi c}{N}\\right) - \\left(-1\\right)^{a + b} + \\left(-1\\right)^{c}\\right)} \\cos\\left(\\frac{\\pi a}{N} - \\frac{\\pi b}{N} + \\frac{\\pi c}{N}\\right) - {\\left(\\left(-1\\right)^{a + b} - \\left(-1\\right)^{c}\\right)} \\cos\\left(-\\frac{\\pi a}{N} - \\frac{\\pi b}{N} + \\frac{\\pi c}{N}\\right) + \\left(-1\\right)^{a + b} - \\left(-1\\right)^{c}\\right)} \\sin\\left(-\\frac{\\pi a}{N} + \\frac{\\pi b}{N} + \\frac{\\pi c}{N}\\right) - {\\left(\\left(-1\\right)^{a + b} - \\left(-1\\right)^{c}\\right)} \\sin\\left(-\\frac{\\pi a}{N} - \\frac{\\pi b}{N} + \\frac{\\pi c}{N}\\right)\\right)} \\cos\\left(\\frac{\\pi a}{N} + \\frac{\\pi b}{N} + \\frac{\\pi c}{N}\\right) - {\\left({\\left(\\left(-1\\right)^{a + b} - \\left(-1\\right)^{c}\\right)} \\cos\\left(\\frac{\\pi a}{N} - \\frac{\\pi b}{N} + \\frac{\\pi c}{N}\\right) \\sin\\left(-\\frac{\\pi a}{N} - \\frac{\\pi b}{N} + \\frac{\\pi c}{N}\\right) - {\\left({\\left(\\left(-1\\right)^{a + b} - \\left(-1\\right)^{c}\\right)} \\cos\\left(-\\frac{\\pi a}{N} - \\frac{\\pi b}{N} + \\frac{\\pi c}{N}\\right) - \\left(-1\\right)^{a + b} + \\left(-1\\right)^{c}\\right)} \\sin\\left(\\frac{\\pi a}{N} - \\frac{\\pi b}{N} + \\frac{\\pi c}{N}\\right) - {\\left(\\left(-1\\right)^{a + b} - \\left(-1\\right)^{c}\\right)} \\sin\\left(-\\frac{\\pi a}{N} - \\frac{\\pi b}{N} + \\frac{\\pi c}{N}\\right)\\right)} \\cos\\left(-\\frac{\\pi a}{N} + \\frac{\\pi b}{N} + \\frac{\\pi c}{N}\\right) - {\\left({\\left({\\left(\\left(-1\\right)^{a + b} - \\left(-1\\right)^{c}\\right)} \\cos\\left(-\\frac{\\pi a}{N} - \\frac{\\pi b}{N} + \\frac{\\pi c}{N}\\right) - \\left(-1\\right)^{a + b} + \\left(-1\\right)^{c}\\right)} \\cos\\left(\\frac{\\pi a}{N} - \\frac{\\pi b}{N} + \\frac{\\pi c}{N}\\right) - {\\left({\\left({\\left(\\left(-1\\right)^{a + b} - \\left(-1\\right)^{c}\\right)} \\cos\\left(-\\frac{\\pi a}{N} - \\frac{\\pi b}{N} + \\frac{\\pi c}{N}\\right) - \\left(-1\\right)^{a + b} + \\left(-1\\right)^{c}\\right)} \\cos\\left(\\frac{\\pi a}{N} - \\frac{\\pi b}{N} + \\frac{\\pi c}{N}\\right) - {\\left(\\left(-1\\right)^{a + b} - \\left(-1\\right)^{c}\\right)} \\cos\\left(-\\frac{\\pi a}{N} - \\frac{\\pi b}{N} + \\frac{\\pi c}{N}\\right) + \\left(-1\\right)^{a + b} - \\left(-1\\right)^{c}\\right)} \\cos\\left(-\\frac{\\pi a}{N} + \\frac{\\pi b}{N} + \\frac{\\pi c}{N}\\right) - {\\left(\\left(-1\\right)^{a + b} - \\left(-1\\right)^{c}\\right)} \\cos\\left(-\\frac{\\pi a}{N} - \\frac{\\pi b}{N} + \\frac{\\pi c}{N}\\right) + \\left(-1\\right)^{a + b} - \\left(-1\\right)^{c}\\right)} \\sin\\left(\\frac{\\pi a}{N} + \\frac{\\pi b}{N} + \\frac{\\pi c}{N}\\right) - {\\left({\\left(\\left(-1\\right)^{a + b} - \\left(-1\\right)^{c}\\right)} \\cos\\left(-\\frac{\\pi a}{N} - \\frac{\\pi b}{N} + \\frac{\\pi c}{N}\\right) - \\left(-1\\right)^{a + b} + \\left(-1\\right)^{c}\\right)} \\sin\\left(\\frac{\\pi a}{N} - \\frac{\\pi b}{N} + \\frac{\\pi c}{N}\\right) + {\\left({\\left({\\left(\\left(-1\\right)^{a + b} - \\left(-1\\right)^{c}\\right)} \\cos\\left(-\\frac{\\pi a}{N} - \\frac{\\pi b}{N} + \\frac{\\pi c}{N}\\right) - \\left(-1\\right)^{a + b} + \\left(-1\\right)^{c}\\right)} \\cos\\left(\\frac{\\pi a}{N} - \\frac{\\pi b}{N} + \\frac{\\pi c}{N}\\right) - {\\left(\\left(-1\\right)^{a + b} - \\left(-1\\right)^{c}\\right)} \\cos\\left(-\\frac{\\pi a}{N} - \\frac{\\pi b}{N} + \\frac{\\pi c}{N}\\right) + \\left(-1\\right)^{a + b} - \\left(-1\\right)^{c}\\right)} \\sin\\left(-\\frac{\\pi a}{N} + \\frac{\\pi b}{N} + \\frac{\\pi c}{N}\\right) - {\\left(\\left(-1\\right)^{a + b} - \\left(-1\\right)^{c}\\right)} \\sin\\left(-\\frac{\\pi a}{N} - \\frac{\\pi b}{N} + \\frac{\\pi c}{N}\\right)}{8 \\, {\\left({\\left({\\left(\\left(-1\\right)^{a + b} \\cos\\left(-\\frac{\\pi a}{N} - \\frac{\\pi b}{N} + \\frac{\\pi c}{N}\\right) - \\left(-1\\right)^{a + b}\\right)} \\cos\\left(\\frac{\\pi a}{N} - \\frac{\\pi b}{N} + \\frac{\\pi c}{N}\\right) - {\\left({\\left(\\left(-1\\right)^{a + b} \\cos\\left(-\\frac{\\pi a}{N} - \\frac{\\pi b}{N} + \\frac{\\pi c}{N}\\right) - \\left(-1\\right)^{a + b}\\right)} \\cos\\left(\\frac{\\pi a}{N} - \\frac{\\pi b}{N} + \\frac{\\pi c}{N}\\right) - \\left(-1\\right)^{a + b} \\cos\\left(-\\frac{\\pi a}{N} - \\frac{\\pi b}{N} + \\frac{\\pi c}{N}\\right) + \\left(-1\\right)^{a + b}\\right)} \\cos\\left(-\\frac{\\pi a}{N} + \\frac{\\pi b}{N} + \\frac{\\pi c}{N}\\right) - \\left(-1\\right)^{a + b} \\cos\\left(-\\frac{\\pi a}{N} - \\frac{\\pi b}{N} + \\frac{\\pi c}{N}\\right) + \\left(-1\\right)^{a + b}\\right)} \\cos\\left(\\frac{\\pi a}{N} + \\frac{\\pi b}{N} + \\frac{\\pi c}{N}\\right) - {\\left(\\left(-1\\right)^{a + b} \\cos\\left(-\\frac{\\pi a}{N} - \\frac{\\pi b}{N} + \\frac{\\pi c}{N}\\right) - \\left(-1\\right)^{a + b}\\right)} \\cos\\left(\\frac{\\pi a}{N} - \\frac{\\pi b}{N} + \\frac{\\pi c}{N}\\right) + {\\left({\\left(\\left(-1\\right)^{a + b} \\cos\\left(-\\frac{\\pi a}{N} - \\frac{\\pi b}{N} + \\frac{\\pi c}{N}\\right) - \\left(-1\\right)^{a + b}\\right)} \\cos\\left(\\frac{\\pi a}{N} - \\frac{\\pi b}{N} + \\frac{\\pi c}{N}\\right) - \\left(-1\\right)^{a + b} \\cos\\left(-\\frac{\\pi a}{N} - \\frac{\\pi b}{N} + \\frac{\\pi c}{N}\\right) + \\left(-1\\right)^{a + b}\\right)} \\cos\\left(-\\frac{\\pi a}{N} + \\frac{\\pi b}{N} + \\frac{\\pi c}{N}\\right) + \\left(-1\\right)^{a + b} \\cos\\left(-\\frac{\\pi a}{N} - \\frac{\\pi b}{N} + \\frac{\\pi c}{N}\\right) - \\left(-1\\right)^{a + b}\\right)}}$$"
      ],
      "text/plain": [
       "-1/8*(((-1)^(a + b) - (-1)^c)*cos(pi*a/N - pi*b/N + pi*c/N)*sin(-pi*a/N - pi*b/N + pi*c/N) - (((-1)^(a + b) - (-1)^c)*cos(pi*a/N - pi*b/N + pi*c/N)*sin(-pi*a/N - pi*b/N + pi*c/N) - (((-1)^(a + b) - (-1)^c)*cos(pi*a/N - pi*b/N + pi*c/N)*sin(-pi*a/N - pi*b/N + pi*c/N) - (((-1)^(a + b) - (-1)^c)*cos(-pi*a/N - pi*b/N + pi*c/N) - (-1)^(a + b) + (-1)^c)*sin(pi*a/N - pi*b/N + pi*c/N) - ((-1)^(a + b) - (-1)^c)*sin(-pi*a/N - pi*b/N + pi*c/N))*cos(-pi*a/N + pi*b/N + pi*c/N) - (((-1)^(a + b) - (-1)^c)*cos(-pi*a/N - pi*b/N + pi*c/N) - (-1)^(a + b) + (-1)^c)*sin(pi*a/N - pi*b/N + pi*c/N) + ((((-1)^(a + b) - (-1)^c)*cos(-pi*a/N - pi*b/N + pi*c/N) - (-1)^(a + b) + (-1)^c)*cos(pi*a/N - pi*b/N + pi*c/N) - ((-1)^(a + b) - (-1)^c)*cos(-pi*a/N - pi*b/N + pi*c/N) + (-1)^(a + b) - (-1)^c)*sin(-pi*a/N + pi*b/N + pi*c/N) - ((-1)^(a + b) - (-1)^c)*sin(-pi*a/N - pi*b/N + pi*c/N))*cos(pi*a/N + pi*b/N + pi*c/N) - (((-1)^(a + b) - (-1)^c)*cos(pi*a/N - pi*b/N + pi*c/N)*sin(-pi*a/N - pi*b/N + pi*c/N) - (((-1)^(a + b) - (-1)^c)*cos(-pi*a/N - pi*b/N + pi*c/N) - (-1)^(a + b) + (-1)^c)*sin(pi*a/N - pi*b/N + pi*c/N) - ((-1)^(a + b) - (-1)^c)*sin(-pi*a/N - pi*b/N + pi*c/N))*cos(-pi*a/N + pi*b/N + pi*c/N) - ((((-1)^(a + b) - (-1)^c)*cos(-pi*a/N - pi*b/N + pi*c/N) - (-1)^(a + b) + (-1)^c)*cos(pi*a/N - pi*b/N + pi*c/N) - ((((-1)^(a + b) - (-1)^c)*cos(-pi*a/N - pi*b/N + pi*c/N) - (-1)^(a + b) + (-1)^c)*cos(pi*a/N - pi*b/N + pi*c/N) - ((-1)^(a + b) - (-1)^c)*cos(-pi*a/N - pi*b/N + pi*c/N) + (-1)^(a + b) - (-1)^c)*cos(-pi*a/N + pi*b/N + pi*c/N) - ((-1)^(a + b) - (-1)^c)*cos(-pi*a/N - pi*b/N + pi*c/N) + (-1)^(a + b) - (-1)^c)*sin(pi*a/N + pi*b/N + pi*c/N) - (((-1)^(a + b) - (-1)^c)*cos(-pi*a/N - pi*b/N + pi*c/N) - (-1)^(a + b) + (-1)^c)*sin(pi*a/N - pi*b/N + pi*c/N) + ((((-1)^(a + b) - (-1)^c)*cos(-pi*a/N - pi*b/N + pi*c/N) - (-1)^(a + b) + (-1)^c)*cos(pi*a/N - pi*b/N + pi*c/N) - ((-1)^(a + b) - (-1)^c)*cos(-pi*a/N - pi*b/N + pi*c/N) + (-1)^(a + b) - (-1)^c)*sin(-pi*a/N + pi*b/N + pi*c/N) - ((-1)^(a + b) - (-1)^c)*sin(-pi*a/N - pi*b/N + pi*c/N))/((((-1)^(a + b)*cos(-pi*a/N - pi*b/N + pi*c/N) - (-1)^(a + b))*cos(pi*a/N - pi*b/N + pi*c/N) - (((-1)^(a + b)*cos(-pi*a/N - pi*b/N + pi*c/N) - (-1)^(a + b))*cos(pi*a/N - pi*b/N + pi*c/N) - (-1)^(a + b)*cos(-pi*a/N - pi*b/N + pi*c/N) + (-1)^(a + b))*cos(-pi*a/N + pi*b/N + pi*c/N) - (-1)^(a + b)*cos(-pi*a/N - pi*b/N + pi*c/N) + (-1)^(a + b))*cos(pi*a/N + pi*b/N + pi*c/N) - ((-1)^(a + b)*cos(-pi*a/N - pi*b/N + pi*c/N) - (-1)^(a + b))*cos(pi*a/N - pi*b/N + pi*c/N) + (((-1)^(a + b)*cos(-pi*a/N - pi*b/N + pi*c/N) - (-1)^(a + b))*cos(pi*a/N - pi*b/N + pi*c/N) - (-1)^(a + b)*cos(-pi*a/N - pi*b/N + pi*c/N) + (-1)^(a + b))*cos(-pi*a/N + pi*b/N + pi*c/N) + (-1)^(a + b)*cos(-pi*a/N - pi*b/N + pi*c/N) - (-1)^(a + b))"
      ]
     },
     "metadata": {},
     "output_type": "display_data"
    }
   ],
   "source": [
    "show(f.unhold())"
   ]
  },
  {
   "cell_type": "code",
   "execution_count": 11,
   "id": "8cb98993",
   "metadata": {},
   "outputs": [],
   "source": [
    "forget()"
   ]
  },
  {
   "cell_type": "markdown",
   "id": "3c970bb5",
   "metadata": {},
   "source": [
    "We see that at several places the expressions $(-1)^{a+b}$ and $(-1)^c$ appear. Hence let us cover all the possible cases one by one:"
   ]
  },
  {
   "cell_type": "code",
   "execution_count": 12,
   "id": "2fe780ab",
   "metadata": {},
   "outputs": [
    {
     "data": {
      "text/html": [
       "<html><script type=\"math/tex; mode=display\">\\newcommand{\\Bold}[1]{\\mathbf{#1}}0</script></html>"
      ],
      "text/latex": [
       "$$\\newcommand{\\Bold}[1]{\\mathbf{#1}}0$$"
      ],
      "text/plain": [
       "0"
      ]
     },
     "metadata": {},
     "output_type": "display_data"
    }
   ],
   "source": [
    "a,b, c, N = var('a','b', 'c', 'N')\n",
    "assume(a,b,c, N, 'integer')\n",
    "assume(a, 'even')\n",
    "assume(b, 'even')\n",
    "assume(c, 'even')\n",
    "assume(1 <= c <=N)\n",
    "x,y, k = var('x','y', 'k')\n",
    "f = sum(sin((pi/N)*a*k)*sin((pi/N)*b*k)*sin((pi/N)*c*(k-1)),k,1,(N-1),hold=True)\n",
    "show(f.unhold())"
   ]
  },
  {
   "cell_type": "code",
   "execution_count": 13,
   "id": "793a27d8",
   "metadata": {},
   "outputs": [],
   "source": [
    "forget()"
   ]
  },
  {
   "cell_type": "code",
   "execution_count": 14,
   "id": "432dd61b",
   "metadata": {},
   "outputs": [
    {
     "data": {
      "text/html": [
       "<html><script type=\"math/tex; mode=display\">\\newcommand{\\Bold}[1]{\\mathbf{#1}}-\\frac{\\cos\\left(\\frac{\\pi a}{N} - \\frac{\\pi b}{N} + \\frac{\\pi c}{N}\\right) \\cos\\left(\\frac{\\pi c}{N}\\right) \\sin\\left(-\\frac{\\pi a}{N} - \\frac{\\pi b}{N} + \\frac{\\pi c}{N}\\right) - {\\left(\\cos\\left(\\frac{\\pi a}{N} - \\frac{\\pi b}{N} + \\frac{\\pi c}{N}\\right) \\cos\\left(\\frac{\\pi c}{N}\\right) \\sin\\left(-\\frac{\\pi a}{N} - \\frac{\\pi b}{N} + \\frac{\\pi c}{N}\\right) - {\\left(\\cos\\left(\\frac{\\pi a}{N} - \\frac{\\pi b}{N} + \\frac{\\pi c}{N}\\right) \\cos\\left(\\frac{\\pi c}{N}\\right) \\sin\\left(-\\frac{\\pi a}{N} - \\frac{\\pi b}{N} + \\frac{\\pi c}{N}\\right) - {\\left(\\cos\\left(-\\frac{\\pi a}{N} - \\frac{\\pi b}{N} + \\frac{\\pi c}{N}\\right) \\cos\\left(\\frac{\\pi c}{N}\\right) - \\cos\\left(\\frac{\\pi c}{N}\\right)\\right)} \\sin\\left(\\frac{\\pi a}{N} - \\frac{\\pi b}{N} + \\frac{\\pi c}{N}\\right) - \\cos\\left(\\frac{\\pi c}{N}\\right) \\sin\\left(-\\frac{\\pi a}{N} - \\frac{\\pi b}{N} + \\frac{\\pi c}{N}\\right)\\right)} \\cos\\left(-\\frac{\\pi a}{N} + \\frac{\\pi b}{N} + \\frac{\\pi c}{N}\\right) - {\\left(\\cos\\left(-\\frac{\\pi a}{N} - \\frac{\\pi b}{N} + \\frac{\\pi c}{N}\\right) \\cos\\left(\\frac{\\pi c}{N}\\right) - \\cos\\left(\\frac{\\pi c}{N}\\right)\\right)} \\sin\\left(\\frac{\\pi a}{N} - \\frac{\\pi b}{N} + \\frac{\\pi c}{N}\\right) + {\\left({\\left(\\cos\\left(-\\frac{\\pi a}{N} - \\frac{\\pi b}{N} + \\frac{\\pi c}{N}\\right) \\cos\\left(\\frac{\\pi c}{N}\\right) - \\cos\\left(\\frac{\\pi c}{N}\\right)\\right)} \\cos\\left(\\frac{\\pi a}{N} - \\frac{\\pi b}{N} + \\frac{\\pi c}{N}\\right) - \\cos\\left(-\\frac{\\pi a}{N} - \\frac{\\pi b}{N} + \\frac{\\pi c}{N}\\right) \\cos\\left(\\frac{\\pi c}{N}\\right) + \\cos\\left(\\frac{\\pi c}{N}\\right)\\right)} \\sin\\left(-\\frac{\\pi a}{N} + \\frac{\\pi b}{N} + \\frac{\\pi c}{N}\\right) - \\cos\\left(\\frac{\\pi c}{N}\\right) \\sin\\left(-\\frac{\\pi a}{N} - \\frac{\\pi b}{N} + \\frac{\\pi c}{N}\\right)\\right)} \\cos\\left(\\frac{\\pi a}{N} + \\frac{\\pi b}{N} + \\frac{\\pi c}{N}\\right) - {\\left(\\cos\\left(\\frac{\\pi a}{N} - \\frac{\\pi b}{N} + \\frac{\\pi c}{N}\\right) \\cos\\left(\\frac{\\pi c}{N}\\right) \\sin\\left(-\\frac{\\pi a}{N} - \\frac{\\pi b}{N} + \\frac{\\pi c}{N}\\right) - {\\left(\\cos\\left(-\\frac{\\pi a}{N} - \\frac{\\pi b}{N} + \\frac{\\pi c}{N}\\right) \\cos\\left(\\frac{\\pi c}{N}\\right) - \\cos\\left(\\frac{\\pi c}{N}\\right)\\right)} \\sin\\left(\\frac{\\pi a}{N} - \\frac{\\pi b}{N} + \\frac{\\pi c}{N}\\right) - \\cos\\left(\\frac{\\pi c}{N}\\right) \\sin\\left(-\\frac{\\pi a}{N} - \\frac{\\pi b}{N} + \\frac{\\pi c}{N}\\right)\\right)} \\cos\\left(-\\frac{\\pi a}{N} + \\frac{\\pi b}{N} + \\frac{\\pi c}{N}\\right) - {\\left({\\left(\\cos\\left(-\\frac{\\pi a}{N} - \\frac{\\pi b}{N} + \\frac{\\pi c}{N}\\right) \\cos\\left(\\frac{\\pi c}{N}\\right) - \\cos\\left(\\frac{\\pi c}{N}\\right)\\right)} \\cos\\left(\\frac{\\pi a}{N} - \\frac{\\pi b}{N} + \\frac{\\pi c}{N}\\right) - {\\left({\\left(\\cos\\left(-\\frac{\\pi a}{N} - \\frac{\\pi b}{N} + \\frac{\\pi c}{N}\\right) \\cos\\left(\\frac{\\pi c}{N}\\right) - \\cos\\left(\\frac{\\pi c}{N}\\right)\\right)} \\cos\\left(\\frac{\\pi a}{N} - \\frac{\\pi b}{N} + \\frac{\\pi c}{N}\\right) - \\cos\\left(-\\frac{\\pi a}{N} - \\frac{\\pi b}{N} + \\frac{\\pi c}{N}\\right) \\cos\\left(\\frac{\\pi c}{N}\\right) + \\cos\\left(\\frac{\\pi c}{N}\\right)\\right)} \\cos\\left(-\\frac{\\pi a}{N} + \\frac{\\pi b}{N} + \\frac{\\pi c}{N}\\right) - \\cos\\left(-\\frac{\\pi a}{N} - \\frac{\\pi b}{N} + \\frac{\\pi c}{N}\\right) \\cos\\left(\\frac{\\pi c}{N}\\right) + \\cos\\left(\\frac{\\pi c}{N}\\right)\\right)} \\sin\\left(\\frac{\\pi a}{N} + \\frac{\\pi b}{N} + \\frac{\\pi c}{N}\\right) - {\\left(\\cos\\left(-\\frac{\\pi a}{N} - \\frac{\\pi b}{N} + \\frac{\\pi c}{N}\\right) \\cos\\left(\\frac{\\pi c}{N}\\right) - \\cos\\left(\\frac{\\pi c}{N}\\right)\\right)} \\sin\\left(\\frac{\\pi a}{N} - \\frac{\\pi b}{N} + \\frac{\\pi c}{N}\\right) + {\\left({\\left(\\cos\\left(-\\frac{\\pi a}{N} - \\frac{\\pi b}{N} + \\frac{\\pi c}{N}\\right) \\cos\\left(\\frac{\\pi c}{N}\\right) - \\cos\\left(\\frac{\\pi c}{N}\\right)\\right)} \\cos\\left(\\frac{\\pi a}{N} - \\frac{\\pi b}{N} + \\frac{\\pi c}{N}\\right) - \\cos\\left(-\\frac{\\pi a}{N} - \\frac{\\pi b}{N} + \\frac{\\pi c}{N}\\right) \\cos\\left(\\frac{\\pi c}{N}\\right) + \\cos\\left(\\frac{\\pi c}{N}\\right)\\right)} \\sin\\left(-\\frac{\\pi a}{N} + \\frac{\\pi b}{N} + \\frac{\\pi c}{N}\\right) - \\cos\\left(\\frac{\\pi c}{N}\\right) \\sin\\left(-\\frac{\\pi a}{N} - \\frac{\\pi b}{N} + \\frac{\\pi c}{N}\\right)}{4 \\, {\\left({\\left({\\left(\\cos\\left(-\\frac{\\pi a}{N} - \\frac{\\pi b}{N} + \\frac{\\pi c}{N}\\right) - 1\\right)} \\cos\\left(\\frac{\\pi a}{N} - \\frac{\\pi b}{N} + \\frac{\\pi c}{N}\\right) - {\\left({\\left(\\cos\\left(-\\frac{\\pi a}{N} - \\frac{\\pi b}{N} + \\frac{\\pi c}{N}\\right) - 1\\right)} \\cos\\left(\\frac{\\pi a}{N} - \\frac{\\pi b}{N} + \\frac{\\pi c}{N}\\right) - \\cos\\left(-\\frac{\\pi a}{N} - \\frac{\\pi b}{N} + \\frac{\\pi c}{N}\\right) + 1\\right)} \\cos\\left(-\\frac{\\pi a}{N} + \\frac{\\pi b}{N} + \\frac{\\pi c}{N}\\right) - \\cos\\left(-\\frac{\\pi a}{N} - \\frac{\\pi b}{N} + \\frac{\\pi c}{N}\\right) + 1\\right)} \\cos\\left(\\frac{\\pi a}{N} + \\frac{\\pi b}{N} + \\frac{\\pi c}{N}\\right) - {\\left(\\cos\\left(-\\frac{\\pi a}{N} - \\frac{\\pi b}{N} + \\frac{\\pi c}{N}\\right) - 1\\right)} \\cos\\left(\\frac{\\pi a}{N} - \\frac{\\pi b}{N} + \\frac{\\pi c}{N}\\right) + {\\left({\\left(\\cos\\left(-\\frac{\\pi a}{N} - \\frac{\\pi b}{N} + \\frac{\\pi c}{N}\\right) - 1\\right)} \\cos\\left(\\frac{\\pi a}{N} - \\frac{\\pi b}{N} + \\frac{\\pi c}{N}\\right) - \\cos\\left(-\\frac{\\pi a}{N} - \\frac{\\pi b}{N} + \\frac{\\pi c}{N}\\right) + 1\\right)} \\cos\\left(-\\frac{\\pi a}{N} + \\frac{\\pi b}{N} + \\frac{\\pi c}{N}\\right) + \\cos\\left(-\\frac{\\pi a}{N} - \\frac{\\pi b}{N} + \\frac{\\pi c}{N}\\right) - 1\\right)}}</script></html>"
      ],
      "text/latex": [
       "$$\\newcommand{\\Bold}[1]{\\mathbf{#1}}-\\frac{\\cos\\left(\\frac{\\pi a}{N} - \\frac{\\pi b}{N} + \\frac{\\pi c}{N}\\right) \\cos\\left(\\frac{\\pi c}{N}\\right) \\sin\\left(-\\frac{\\pi a}{N} - \\frac{\\pi b}{N} + \\frac{\\pi c}{N}\\right) - {\\left(\\cos\\left(\\frac{\\pi a}{N} - \\frac{\\pi b}{N} + \\frac{\\pi c}{N}\\right) \\cos\\left(\\frac{\\pi c}{N}\\right) \\sin\\left(-\\frac{\\pi a}{N} - \\frac{\\pi b}{N} + \\frac{\\pi c}{N}\\right) - {\\left(\\cos\\left(\\frac{\\pi a}{N} - \\frac{\\pi b}{N} + \\frac{\\pi c}{N}\\right) \\cos\\left(\\frac{\\pi c}{N}\\right) \\sin\\left(-\\frac{\\pi a}{N} - \\frac{\\pi b}{N} + \\frac{\\pi c}{N}\\right) - {\\left(\\cos\\left(-\\frac{\\pi a}{N} - \\frac{\\pi b}{N} + \\frac{\\pi c}{N}\\right) \\cos\\left(\\frac{\\pi c}{N}\\right) - \\cos\\left(\\frac{\\pi c}{N}\\right)\\right)} \\sin\\left(\\frac{\\pi a}{N} - \\frac{\\pi b}{N} + \\frac{\\pi c}{N}\\right) - \\cos\\left(\\frac{\\pi c}{N}\\right) \\sin\\left(-\\frac{\\pi a}{N} - \\frac{\\pi b}{N} + \\frac{\\pi c}{N}\\right)\\right)} \\cos\\left(-\\frac{\\pi a}{N} + \\frac{\\pi b}{N} + \\frac{\\pi c}{N}\\right) - {\\left(\\cos\\left(-\\frac{\\pi a}{N} - \\frac{\\pi b}{N} + \\frac{\\pi c}{N}\\right) \\cos\\left(\\frac{\\pi c}{N}\\right) - \\cos\\left(\\frac{\\pi c}{N}\\right)\\right)} \\sin\\left(\\frac{\\pi a}{N} - \\frac{\\pi b}{N} + \\frac{\\pi c}{N}\\right) + {\\left({\\left(\\cos\\left(-\\frac{\\pi a}{N} - \\frac{\\pi b}{N} + \\frac{\\pi c}{N}\\right) \\cos\\left(\\frac{\\pi c}{N}\\right) - \\cos\\left(\\frac{\\pi c}{N}\\right)\\right)} \\cos\\left(\\frac{\\pi a}{N} - \\frac{\\pi b}{N} + \\frac{\\pi c}{N}\\right) - \\cos\\left(-\\frac{\\pi a}{N} - \\frac{\\pi b}{N} + \\frac{\\pi c}{N}\\right) \\cos\\left(\\frac{\\pi c}{N}\\right) + \\cos\\left(\\frac{\\pi c}{N}\\right)\\right)} \\sin\\left(-\\frac{\\pi a}{N} + \\frac{\\pi b}{N} + \\frac{\\pi c}{N}\\right) - \\cos\\left(\\frac{\\pi c}{N}\\right) \\sin\\left(-\\frac{\\pi a}{N} - \\frac{\\pi b}{N} + \\frac{\\pi c}{N}\\right)\\right)} \\cos\\left(\\frac{\\pi a}{N} + \\frac{\\pi b}{N} + \\frac{\\pi c}{N}\\right) - {\\left(\\cos\\left(\\frac{\\pi a}{N} - \\frac{\\pi b}{N} + \\frac{\\pi c}{N}\\right) \\cos\\left(\\frac{\\pi c}{N}\\right) \\sin\\left(-\\frac{\\pi a}{N} - \\frac{\\pi b}{N} + \\frac{\\pi c}{N}\\right) - {\\left(\\cos\\left(-\\frac{\\pi a}{N} - \\frac{\\pi b}{N} + \\frac{\\pi c}{N}\\right) \\cos\\left(\\frac{\\pi c}{N}\\right) - \\cos\\left(\\frac{\\pi c}{N}\\right)\\right)} \\sin\\left(\\frac{\\pi a}{N} - \\frac{\\pi b}{N} + \\frac{\\pi c}{N}\\right) - \\cos\\left(\\frac{\\pi c}{N}\\right) \\sin\\left(-\\frac{\\pi a}{N} - \\frac{\\pi b}{N} + \\frac{\\pi c}{N}\\right)\\right)} \\cos\\left(-\\frac{\\pi a}{N} + \\frac{\\pi b}{N} + \\frac{\\pi c}{N}\\right) - {\\left({\\left(\\cos\\left(-\\frac{\\pi a}{N} - \\frac{\\pi b}{N} + \\frac{\\pi c}{N}\\right) \\cos\\left(\\frac{\\pi c}{N}\\right) - \\cos\\left(\\frac{\\pi c}{N}\\right)\\right)} \\cos\\left(\\frac{\\pi a}{N} - \\frac{\\pi b}{N} + \\frac{\\pi c}{N}\\right) - {\\left({\\left(\\cos\\left(-\\frac{\\pi a}{N} - \\frac{\\pi b}{N} + \\frac{\\pi c}{N}\\right) \\cos\\left(\\frac{\\pi c}{N}\\right) - \\cos\\left(\\frac{\\pi c}{N}\\right)\\right)} \\cos\\left(\\frac{\\pi a}{N} - \\frac{\\pi b}{N} + \\frac{\\pi c}{N}\\right) - \\cos\\left(-\\frac{\\pi a}{N} - \\frac{\\pi b}{N} + \\frac{\\pi c}{N}\\right) \\cos\\left(\\frac{\\pi c}{N}\\right) + \\cos\\left(\\frac{\\pi c}{N}\\right)\\right)} \\cos\\left(-\\frac{\\pi a}{N} + \\frac{\\pi b}{N} + \\frac{\\pi c}{N}\\right) - \\cos\\left(-\\frac{\\pi a}{N} - \\frac{\\pi b}{N} + \\frac{\\pi c}{N}\\right) \\cos\\left(\\frac{\\pi c}{N}\\right) + \\cos\\left(\\frac{\\pi c}{N}\\right)\\right)} \\sin\\left(\\frac{\\pi a}{N} + \\frac{\\pi b}{N} + \\frac{\\pi c}{N}\\right) - {\\left(\\cos\\left(-\\frac{\\pi a}{N} - \\frac{\\pi b}{N} + \\frac{\\pi c}{N}\\right) \\cos\\left(\\frac{\\pi c}{N}\\right) - \\cos\\left(\\frac{\\pi c}{N}\\right)\\right)} \\sin\\left(\\frac{\\pi a}{N} - \\frac{\\pi b}{N} + \\frac{\\pi c}{N}\\right) + {\\left({\\left(\\cos\\left(-\\frac{\\pi a}{N} - \\frac{\\pi b}{N} + \\frac{\\pi c}{N}\\right) \\cos\\left(\\frac{\\pi c}{N}\\right) - \\cos\\left(\\frac{\\pi c}{N}\\right)\\right)} \\cos\\left(\\frac{\\pi a}{N} - \\frac{\\pi b}{N} + \\frac{\\pi c}{N}\\right) - \\cos\\left(-\\frac{\\pi a}{N} - \\frac{\\pi b}{N} + \\frac{\\pi c}{N}\\right) \\cos\\left(\\frac{\\pi c}{N}\\right) + \\cos\\left(\\frac{\\pi c}{N}\\right)\\right)} \\sin\\left(-\\frac{\\pi a}{N} + \\frac{\\pi b}{N} + \\frac{\\pi c}{N}\\right) - \\cos\\left(\\frac{\\pi c}{N}\\right) \\sin\\left(-\\frac{\\pi a}{N} - \\frac{\\pi b}{N} + \\frac{\\pi c}{N}\\right)}{4 \\, {\\left({\\left({\\left(\\cos\\left(-\\frac{\\pi a}{N} - \\frac{\\pi b}{N} + \\frac{\\pi c}{N}\\right) - 1\\right)} \\cos\\left(\\frac{\\pi a}{N} - \\frac{\\pi b}{N} + \\frac{\\pi c}{N}\\right) - {\\left({\\left(\\cos\\left(-\\frac{\\pi a}{N} - \\frac{\\pi b}{N} + \\frac{\\pi c}{N}\\right) - 1\\right)} \\cos\\left(\\frac{\\pi a}{N} - \\frac{\\pi b}{N} + \\frac{\\pi c}{N}\\right) - \\cos\\left(-\\frac{\\pi a}{N} - \\frac{\\pi b}{N} + \\frac{\\pi c}{N}\\right) + 1\\right)} \\cos\\left(-\\frac{\\pi a}{N} + \\frac{\\pi b}{N} + \\frac{\\pi c}{N}\\right) - \\cos\\left(-\\frac{\\pi a}{N} - \\frac{\\pi b}{N} + \\frac{\\pi c}{N}\\right) + 1\\right)} \\cos\\left(\\frac{\\pi a}{N} + \\frac{\\pi b}{N} + \\frac{\\pi c}{N}\\right) - {\\left(\\cos\\left(-\\frac{\\pi a}{N} - \\frac{\\pi b}{N} + \\frac{\\pi c}{N}\\right) - 1\\right)} \\cos\\left(\\frac{\\pi a}{N} - \\frac{\\pi b}{N} + \\frac{\\pi c}{N}\\right) + {\\left({\\left(\\cos\\left(-\\frac{\\pi a}{N} - \\frac{\\pi b}{N} + \\frac{\\pi c}{N}\\right) - 1\\right)} \\cos\\left(\\frac{\\pi a}{N} - \\frac{\\pi b}{N} + \\frac{\\pi c}{N}\\right) - \\cos\\left(-\\frac{\\pi a}{N} - \\frac{\\pi b}{N} + \\frac{\\pi c}{N}\\right) + 1\\right)} \\cos\\left(-\\frac{\\pi a}{N} + \\frac{\\pi b}{N} + \\frac{\\pi c}{N}\\right) + \\cos\\left(-\\frac{\\pi a}{N} - \\frac{\\pi b}{N} + \\frac{\\pi c}{N}\\right) - 1\\right)}}$$"
      ],
      "text/plain": [
       "-1/4*(cos(pi*a/N - pi*b/N + pi*c/N)*cos(pi*c/N)*sin(-pi*a/N - pi*b/N + pi*c/N) - (cos(pi*a/N - pi*b/N + pi*c/N)*cos(pi*c/N)*sin(-pi*a/N - pi*b/N + pi*c/N) - (cos(pi*a/N - pi*b/N + pi*c/N)*cos(pi*c/N)*sin(-pi*a/N - pi*b/N + pi*c/N) - (cos(-pi*a/N - pi*b/N + pi*c/N)*cos(pi*c/N) - cos(pi*c/N))*sin(pi*a/N - pi*b/N + pi*c/N) - cos(pi*c/N)*sin(-pi*a/N - pi*b/N + pi*c/N))*cos(-pi*a/N + pi*b/N + pi*c/N) - (cos(-pi*a/N - pi*b/N + pi*c/N)*cos(pi*c/N) - cos(pi*c/N))*sin(pi*a/N - pi*b/N + pi*c/N) + ((cos(-pi*a/N - pi*b/N + pi*c/N)*cos(pi*c/N) - cos(pi*c/N))*cos(pi*a/N - pi*b/N + pi*c/N) - cos(-pi*a/N - pi*b/N + pi*c/N)*cos(pi*c/N) + cos(pi*c/N))*sin(-pi*a/N + pi*b/N + pi*c/N) - cos(pi*c/N)*sin(-pi*a/N - pi*b/N + pi*c/N))*cos(pi*a/N + pi*b/N + pi*c/N) - (cos(pi*a/N - pi*b/N + pi*c/N)*cos(pi*c/N)*sin(-pi*a/N - pi*b/N + pi*c/N) - (cos(-pi*a/N - pi*b/N + pi*c/N)*cos(pi*c/N) - cos(pi*c/N))*sin(pi*a/N - pi*b/N + pi*c/N) - cos(pi*c/N)*sin(-pi*a/N - pi*b/N + pi*c/N))*cos(-pi*a/N + pi*b/N + pi*c/N) - ((cos(-pi*a/N - pi*b/N + pi*c/N)*cos(pi*c/N) - cos(pi*c/N))*cos(pi*a/N - pi*b/N + pi*c/N) - ((cos(-pi*a/N - pi*b/N + pi*c/N)*cos(pi*c/N) - cos(pi*c/N))*cos(pi*a/N - pi*b/N + pi*c/N) - cos(-pi*a/N - pi*b/N + pi*c/N)*cos(pi*c/N) + cos(pi*c/N))*cos(-pi*a/N + pi*b/N + pi*c/N) - cos(-pi*a/N - pi*b/N + pi*c/N)*cos(pi*c/N) + cos(pi*c/N))*sin(pi*a/N + pi*b/N + pi*c/N) - (cos(-pi*a/N - pi*b/N + pi*c/N)*cos(pi*c/N) - cos(pi*c/N))*sin(pi*a/N - pi*b/N + pi*c/N) + ((cos(-pi*a/N - pi*b/N + pi*c/N)*cos(pi*c/N) - cos(pi*c/N))*cos(pi*a/N - pi*b/N + pi*c/N) - cos(-pi*a/N - pi*b/N + pi*c/N)*cos(pi*c/N) + cos(pi*c/N))*sin(-pi*a/N + pi*b/N + pi*c/N) - cos(pi*c/N)*sin(-pi*a/N - pi*b/N + pi*c/N))/(((cos(-pi*a/N - pi*b/N + pi*c/N) - 1)*cos(pi*a/N - pi*b/N + pi*c/N) - ((cos(-pi*a/N - pi*b/N + pi*c/N) - 1)*cos(pi*a/N - pi*b/N + pi*c/N) - cos(-pi*a/N - pi*b/N + pi*c/N) + 1)*cos(-pi*a/N + pi*b/N + pi*c/N) - cos(-pi*a/N - pi*b/N + pi*c/N) + 1)*cos(pi*a/N + pi*b/N + pi*c/N) - (cos(-pi*a/N - pi*b/N + pi*c/N) - 1)*cos(pi*a/N - pi*b/N + pi*c/N) + ((cos(-pi*a/N - pi*b/N + pi*c/N) - 1)*cos(pi*a/N - pi*b/N + pi*c/N) - cos(-pi*a/N - pi*b/N + pi*c/N) + 1)*cos(-pi*a/N + pi*b/N + pi*c/N) + cos(-pi*a/N - pi*b/N + pi*c/N) - 1)"
      ]
     },
     "metadata": {},
     "output_type": "display_data"
    }
   ],
   "source": [
    "a,b, c, N = var('a','b', 'c', 'N')\n",
    "assume(a,b,c, N, 'integer')\n",
    "assume(a, 'odd')\n",
    "assume(b, 'even')\n",
    "assume(c, 'even')\n",
    "assume(1 <= c <=N)\n",
    "x,y, k = var('x','y', 'k')\n",
    "f = sum(sin((pi/N)*a*k)*sin((pi/N)*b*k)*sin((pi/N)*c*(k-1)),k,1,(N-1),hold=True)\n",
    "show(f.unhold())"
   ]
  },
  {
   "cell_type": "code",
   "execution_count": 15,
   "id": "1eba9681",
   "metadata": {},
   "outputs": [],
   "source": [
    "forget()"
   ]
  },
  {
   "cell_type": "code",
   "execution_count": 16,
   "id": "77830adc",
   "metadata": {},
   "outputs": [
    {
     "data": {
      "text/html": [
       "<html><script type=\"math/tex; mode=display\">\\newcommand{\\Bold}[1]{\\mathbf{#1}}-\\frac{\\cos\\left(\\frac{\\pi a}{N} - \\frac{\\pi b}{N} + \\frac{\\pi c}{N}\\right) \\cos\\left(\\frac{\\pi c}{N}\\right) \\sin\\left(-\\frac{\\pi a}{N} - \\frac{\\pi b}{N} + \\frac{\\pi c}{N}\\right) - {\\left(\\cos\\left(\\frac{\\pi a}{N} - \\frac{\\pi b}{N} + \\frac{\\pi c}{N}\\right) \\cos\\left(\\frac{\\pi c}{N}\\right) \\sin\\left(-\\frac{\\pi a}{N} - \\frac{\\pi b}{N} + \\frac{\\pi c}{N}\\right) - {\\left(\\cos\\left(\\frac{\\pi a}{N} - \\frac{\\pi b}{N} + \\frac{\\pi c}{N}\\right) \\cos\\left(\\frac{\\pi c}{N}\\right) \\sin\\left(-\\frac{\\pi a}{N} - \\frac{\\pi b}{N} + \\frac{\\pi c}{N}\\right) - {\\left(\\cos\\left(-\\frac{\\pi a}{N} - \\frac{\\pi b}{N} + \\frac{\\pi c}{N}\\right) \\cos\\left(\\frac{\\pi c}{N}\\right) - \\cos\\left(\\frac{\\pi c}{N}\\right)\\right)} \\sin\\left(\\frac{\\pi a}{N} - \\frac{\\pi b}{N} + \\frac{\\pi c}{N}\\right) - \\cos\\left(\\frac{\\pi c}{N}\\right) \\sin\\left(-\\frac{\\pi a}{N} - \\frac{\\pi b}{N} + \\frac{\\pi c}{N}\\right)\\right)} \\cos\\left(-\\frac{\\pi a}{N} + \\frac{\\pi b}{N} + \\frac{\\pi c}{N}\\right) - {\\left(\\cos\\left(-\\frac{\\pi a}{N} - \\frac{\\pi b}{N} + \\frac{\\pi c}{N}\\right) \\cos\\left(\\frac{\\pi c}{N}\\right) - \\cos\\left(\\frac{\\pi c}{N}\\right)\\right)} \\sin\\left(\\frac{\\pi a}{N} - \\frac{\\pi b}{N} + \\frac{\\pi c}{N}\\right) + {\\left({\\left(\\cos\\left(-\\frac{\\pi a}{N} - \\frac{\\pi b}{N} + \\frac{\\pi c}{N}\\right) \\cos\\left(\\frac{\\pi c}{N}\\right) - \\cos\\left(\\frac{\\pi c}{N}\\right)\\right)} \\cos\\left(\\frac{\\pi a}{N} - \\frac{\\pi b}{N} + \\frac{\\pi c}{N}\\right) - \\cos\\left(-\\frac{\\pi a}{N} - \\frac{\\pi b}{N} + \\frac{\\pi c}{N}\\right) \\cos\\left(\\frac{\\pi c}{N}\\right) + \\cos\\left(\\frac{\\pi c}{N}\\right)\\right)} \\sin\\left(-\\frac{\\pi a}{N} + \\frac{\\pi b}{N} + \\frac{\\pi c}{N}\\right) - \\cos\\left(\\frac{\\pi c}{N}\\right) \\sin\\left(-\\frac{\\pi a}{N} - \\frac{\\pi b}{N} + \\frac{\\pi c}{N}\\right)\\right)} \\cos\\left(\\frac{\\pi a}{N} + \\frac{\\pi b}{N} + \\frac{\\pi c}{N}\\right) - {\\left(\\cos\\left(\\frac{\\pi a}{N} - \\frac{\\pi b}{N} + \\frac{\\pi c}{N}\\right) \\cos\\left(\\frac{\\pi c}{N}\\right) \\sin\\left(-\\frac{\\pi a}{N} - \\frac{\\pi b}{N} + \\frac{\\pi c}{N}\\right) - {\\left(\\cos\\left(-\\frac{\\pi a}{N} - \\frac{\\pi b}{N} + \\frac{\\pi c}{N}\\right) \\cos\\left(\\frac{\\pi c}{N}\\right) - \\cos\\left(\\frac{\\pi c}{N}\\right)\\right)} \\sin\\left(\\frac{\\pi a}{N} - \\frac{\\pi b}{N} + \\frac{\\pi c}{N}\\right) - \\cos\\left(\\frac{\\pi c}{N}\\right) \\sin\\left(-\\frac{\\pi a}{N} - \\frac{\\pi b}{N} + \\frac{\\pi c}{N}\\right)\\right)} \\cos\\left(-\\frac{\\pi a}{N} + \\frac{\\pi b}{N} + \\frac{\\pi c}{N}\\right) - {\\left({\\left(\\cos\\left(-\\frac{\\pi a}{N} - \\frac{\\pi b}{N} + \\frac{\\pi c}{N}\\right) \\cos\\left(\\frac{\\pi c}{N}\\right) - \\cos\\left(\\frac{\\pi c}{N}\\right)\\right)} \\cos\\left(\\frac{\\pi a}{N} - \\frac{\\pi b}{N} + \\frac{\\pi c}{N}\\right) - {\\left({\\left(\\cos\\left(-\\frac{\\pi a}{N} - \\frac{\\pi b}{N} + \\frac{\\pi c}{N}\\right) \\cos\\left(\\frac{\\pi c}{N}\\right) - \\cos\\left(\\frac{\\pi c}{N}\\right)\\right)} \\cos\\left(\\frac{\\pi a}{N} - \\frac{\\pi b}{N} + \\frac{\\pi c}{N}\\right) - \\cos\\left(-\\frac{\\pi a}{N} - \\frac{\\pi b}{N} + \\frac{\\pi c}{N}\\right) \\cos\\left(\\frac{\\pi c}{N}\\right) + \\cos\\left(\\frac{\\pi c}{N}\\right)\\right)} \\cos\\left(-\\frac{\\pi a}{N} + \\frac{\\pi b}{N} + \\frac{\\pi c}{N}\\right) - \\cos\\left(-\\frac{\\pi a}{N} - \\frac{\\pi b}{N} + \\frac{\\pi c}{N}\\right) \\cos\\left(\\frac{\\pi c}{N}\\right) + \\cos\\left(\\frac{\\pi c}{N}\\right)\\right)} \\sin\\left(\\frac{\\pi a}{N} + \\frac{\\pi b}{N} + \\frac{\\pi c}{N}\\right) - {\\left(\\cos\\left(-\\frac{\\pi a}{N} - \\frac{\\pi b}{N} + \\frac{\\pi c}{N}\\right) \\cos\\left(\\frac{\\pi c}{N}\\right) - \\cos\\left(\\frac{\\pi c}{N}\\right)\\right)} \\sin\\left(\\frac{\\pi a}{N} - \\frac{\\pi b}{N} + \\frac{\\pi c}{N}\\right) + {\\left({\\left(\\cos\\left(-\\frac{\\pi a}{N} - \\frac{\\pi b}{N} + \\frac{\\pi c}{N}\\right) \\cos\\left(\\frac{\\pi c}{N}\\right) - \\cos\\left(\\frac{\\pi c}{N}\\right)\\right)} \\cos\\left(\\frac{\\pi a}{N} - \\frac{\\pi b}{N} + \\frac{\\pi c}{N}\\right) - \\cos\\left(-\\frac{\\pi a}{N} - \\frac{\\pi b}{N} + \\frac{\\pi c}{N}\\right) \\cos\\left(\\frac{\\pi c}{N}\\right) + \\cos\\left(\\frac{\\pi c}{N}\\right)\\right)} \\sin\\left(-\\frac{\\pi a}{N} + \\frac{\\pi b}{N} + \\frac{\\pi c}{N}\\right) - \\cos\\left(\\frac{\\pi c}{N}\\right) \\sin\\left(-\\frac{\\pi a}{N} - \\frac{\\pi b}{N} + \\frac{\\pi c}{N}\\right)}{4 \\, {\\left({\\left({\\left(\\cos\\left(-\\frac{\\pi a}{N} - \\frac{\\pi b}{N} + \\frac{\\pi c}{N}\\right) - 1\\right)} \\cos\\left(\\frac{\\pi a}{N} - \\frac{\\pi b}{N} + \\frac{\\pi c}{N}\\right) - {\\left({\\left(\\cos\\left(-\\frac{\\pi a}{N} - \\frac{\\pi b}{N} + \\frac{\\pi c}{N}\\right) - 1\\right)} \\cos\\left(\\frac{\\pi a}{N} - \\frac{\\pi b}{N} + \\frac{\\pi c}{N}\\right) - \\cos\\left(-\\frac{\\pi a}{N} - \\frac{\\pi b}{N} + \\frac{\\pi c}{N}\\right) + 1\\right)} \\cos\\left(-\\frac{\\pi a}{N} + \\frac{\\pi b}{N} + \\frac{\\pi c}{N}\\right) - \\cos\\left(-\\frac{\\pi a}{N} - \\frac{\\pi b}{N} + \\frac{\\pi c}{N}\\right) + 1\\right)} \\cos\\left(\\frac{\\pi a}{N} + \\frac{\\pi b}{N} + \\frac{\\pi c}{N}\\right) - {\\left(\\cos\\left(-\\frac{\\pi a}{N} - \\frac{\\pi b}{N} + \\frac{\\pi c}{N}\\right) - 1\\right)} \\cos\\left(\\frac{\\pi a}{N} - \\frac{\\pi b}{N} + \\frac{\\pi c}{N}\\right) + {\\left({\\left(\\cos\\left(-\\frac{\\pi a}{N} - \\frac{\\pi b}{N} + \\frac{\\pi c}{N}\\right) - 1\\right)} \\cos\\left(\\frac{\\pi a}{N} - \\frac{\\pi b}{N} + \\frac{\\pi c}{N}\\right) - \\cos\\left(-\\frac{\\pi a}{N} - \\frac{\\pi b}{N} + \\frac{\\pi c}{N}\\right) + 1\\right)} \\cos\\left(-\\frac{\\pi a}{N} + \\frac{\\pi b}{N} + \\frac{\\pi c}{N}\\right) + \\cos\\left(-\\frac{\\pi a}{N} - \\frac{\\pi b}{N} + \\frac{\\pi c}{N}\\right) - 1\\right)}}</script></html>"
      ],
      "text/latex": [
       "$$\\newcommand{\\Bold}[1]{\\mathbf{#1}}-\\frac{\\cos\\left(\\frac{\\pi a}{N} - \\frac{\\pi b}{N} + \\frac{\\pi c}{N}\\right) \\cos\\left(\\frac{\\pi c}{N}\\right) \\sin\\left(-\\frac{\\pi a}{N} - \\frac{\\pi b}{N} + \\frac{\\pi c}{N}\\right) - {\\left(\\cos\\left(\\frac{\\pi a}{N} - \\frac{\\pi b}{N} + \\frac{\\pi c}{N}\\right) \\cos\\left(\\frac{\\pi c}{N}\\right) \\sin\\left(-\\frac{\\pi a}{N} - \\frac{\\pi b}{N} + \\frac{\\pi c}{N}\\right) - {\\left(\\cos\\left(\\frac{\\pi a}{N} - \\frac{\\pi b}{N} + \\frac{\\pi c}{N}\\right) \\cos\\left(\\frac{\\pi c}{N}\\right) \\sin\\left(-\\frac{\\pi a}{N} - \\frac{\\pi b}{N} + \\frac{\\pi c}{N}\\right) - {\\left(\\cos\\left(-\\frac{\\pi a}{N} - \\frac{\\pi b}{N} + \\frac{\\pi c}{N}\\right) \\cos\\left(\\frac{\\pi c}{N}\\right) - \\cos\\left(\\frac{\\pi c}{N}\\right)\\right)} \\sin\\left(\\frac{\\pi a}{N} - \\frac{\\pi b}{N} + \\frac{\\pi c}{N}\\right) - \\cos\\left(\\frac{\\pi c}{N}\\right) \\sin\\left(-\\frac{\\pi a}{N} - \\frac{\\pi b}{N} + \\frac{\\pi c}{N}\\right)\\right)} \\cos\\left(-\\frac{\\pi a}{N} + \\frac{\\pi b}{N} + \\frac{\\pi c}{N}\\right) - {\\left(\\cos\\left(-\\frac{\\pi a}{N} - \\frac{\\pi b}{N} + \\frac{\\pi c}{N}\\right) \\cos\\left(\\frac{\\pi c}{N}\\right) - \\cos\\left(\\frac{\\pi c}{N}\\right)\\right)} \\sin\\left(\\frac{\\pi a}{N} - \\frac{\\pi b}{N} + \\frac{\\pi c}{N}\\right) + {\\left({\\left(\\cos\\left(-\\frac{\\pi a}{N} - \\frac{\\pi b}{N} + \\frac{\\pi c}{N}\\right) \\cos\\left(\\frac{\\pi c}{N}\\right) - \\cos\\left(\\frac{\\pi c}{N}\\right)\\right)} \\cos\\left(\\frac{\\pi a}{N} - \\frac{\\pi b}{N} + \\frac{\\pi c}{N}\\right) - \\cos\\left(-\\frac{\\pi a}{N} - \\frac{\\pi b}{N} + \\frac{\\pi c}{N}\\right) \\cos\\left(\\frac{\\pi c}{N}\\right) + \\cos\\left(\\frac{\\pi c}{N}\\right)\\right)} \\sin\\left(-\\frac{\\pi a}{N} + \\frac{\\pi b}{N} + \\frac{\\pi c}{N}\\right) - \\cos\\left(\\frac{\\pi c}{N}\\right) \\sin\\left(-\\frac{\\pi a}{N} - \\frac{\\pi b}{N} + \\frac{\\pi c}{N}\\right)\\right)} \\cos\\left(\\frac{\\pi a}{N} + \\frac{\\pi b}{N} + \\frac{\\pi c}{N}\\right) - {\\left(\\cos\\left(\\frac{\\pi a}{N} - \\frac{\\pi b}{N} + \\frac{\\pi c}{N}\\right) \\cos\\left(\\frac{\\pi c}{N}\\right) \\sin\\left(-\\frac{\\pi a}{N} - \\frac{\\pi b}{N} + \\frac{\\pi c}{N}\\right) - {\\left(\\cos\\left(-\\frac{\\pi a}{N} - \\frac{\\pi b}{N} + \\frac{\\pi c}{N}\\right) \\cos\\left(\\frac{\\pi c}{N}\\right) - \\cos\\left(\\frac{\\pi c}{N}\\right)\\right)} \\sin\\left(\\frac{\\pi a}{N} - \\frac{\\pi b}{N} + \\frac{\\pi c}{N}\\right) - \\cos\\left(\\frac{\\pi c}{N}\\right) \\sin\\left(-\\frac{\\pi a}{N} - \\frac{\\pi b}{N} + \\frac{\\pi c}{N}\\right)\\right)} \\cos\\left(-\\frac{\\pi a}{N} + \\frac{\\pi b}{N} + \\frac{\\pi c}{N}\\right) - {\\left({\\left(\\cos\\left(-\\frac{\\pi a}{N} - \\frac{\\pi b}{N} + \\frac{\\pi c}{N}\\right) \\cos\\left(\\frac{\\pi c}{N}\\right) - \\cos\\left(\\frac{\\pi c}{N}\\right)\\right)} \\cos\\left(\\frac{\\pi a}{N} - \\frac{\\pi b}{N} + \\frac{\\pi c}{N}\\right) - {\\left({\\left(\\cos\\left(-\\frac{\\pi a}{N} - \\frac{\\pi b}{N} + \\frac{\\pi c}{N}\\right) \\cos\\left(\\frac{\\pi c}{N}\\right) - \\cos\\left(\\frac{\\pi c}{N}\\right)\\right)} \\cos\\left(\\frac{\\pi a}{N} - \\frac{\\pi b}{N} + \\frac{\\pi c}{N}\\right) - \\cos\\left(-\\frac{\\pi a}{N} - \\frac{\\pi b}{N} + \\frac{\\pi c}{N}\\right) \\cos\\left(\\frac{\\pi c}{N}\\right) + \\cos\\left(\\frac{\\pi c}{N}\\right)\\right)} \\cos\\left(-\\frac{\\pi a}{N} + \\frac{\\pi b}{N} + \\frac{\\pi c}{N}\\right) - \\cos\\left(-\\frac{\\pi a}{N} - \\frac{\\pi b}{N} + \\frac{\\pi c}{N}\\right) \\cos\\left(\\frac{\\pi c}{N}\\right) + \\cos\\left(\\frac{\\pi c}{N}\\right)\\right)} \\sin\\left(\\frac{\\pi a}{N} + \\frac{\\pi b}{N} + \\frac{\\pi c}{N}\\right) - {\\left(\\cos\\left(-\\frac{\\pi a}{N} - \\frac{\\pi b}{N} + \\frac{\\pi c}{N}\\right) \\cos\\left(\\frac{\\pi c}{N}\\right) - \\cos\\left(\\frac{\\pi c}{N}\\right)\\right)} \\sin\\left(\\frac{\\pi a}{N} - \\frac{\\pi b}{N} + \\frac{\\pi c}{N}\\right) + {\\left({\\left(\\cos\\left(-\\frac{\\pi a}{N} - \\frac{\\pi b}{N} + \\frac{\\pi c}{N}\\right) \\cos\\left(\\frac{\\pi c}{N}\\right) - \\cos\\left(\\frac{\\pi c}{N}\\right)\\right)} \\cos\\left(\\frac{\\pi a}{N} - \\frac{\\pi b}{N} + \\frac{\\pi c}{N}\\right) - \\cos\\left(-\\frac{\\pi a}{N} - \\frac{\\pi b}{N} + \\frac{\\pi c}{N}\\right) \\cos\\left(\\frac{\\pi c}{N}\\right) + \\cos\\left(\\frac{\\pi c}{N}\\right)\\right)} \\sin\\left(-\\frac{\\pi a}{N} + \\frac{\\pi b}{N} + \\frac{\\pi c}{N}\\right) - \\cos\\left(\\frac{\\pi c}{N}\\right) \\sin\\left(-\\frac{\\pi a}{N} - \\frac{\\pi b}{N} + \\frac{\\pi c}{N}\\right)}{4 \\, {\\left({\\left({\\left(\\cos\\left(-\\frac{\\pi a}{N} - \\frac{\\pi b}{N} + \\frac{\\pi c}{N}\\right) - 1\\right)} \\cos\\left(\\frac{\\pi a}{N} - \\frac{\\pi b}{N} + \\frac{\\pi c}{N}\\right) - {\\left({\\left(\\cos\\left(-\\frac{\\pi a}{N} - \\frac{\\pi b}{N} + \\frac{\\pi c}{N}\\right) - 1\\right)} \\cos\\left(\\frac{\\pi a}{N} - \\frac{\\pi b}{N} + \\frac{\\pi c}{N}\\right) - \\cos\\left(-\\frac{\\pi a}{N} - \\frac{\\pi b}{N} + \\frac{\\pi c}{N}\\right) + 1\\right)} \\cos\\left(-\\frac{\\pi a}{N} + \\frac{\\pi b}{N} + \\frac{\\pi c}{N}\\right) - \\cos\\left(-\\frac{\\pi a}{N} - \\frac{\\pi b}{N} + \\frac{\\pi c}{N}\\right) + 1\\right)} \\cos\\left(\\frac{\\pi a}{N} + \\frac{\\pi b}{N} + \\frac{\\pi c}{N}\\right) - {\\left(\\cos\\left(-\\frac{\\pi a}{N} - \\frac{\\pi b}{N} + \\frac{\\pi c}{N}\\right) - 1\\right)} \\cos\\left(\\frac{\\pi a}{N} - \\frac{\\pi b}{N} + \\frac{\\pi c}{N}\\right) + {\\left({\\left(\\cos\\left(-\\frac{\\pi a}{N} - \\frac{\\pi b}{N} + \\frac{\\pi c}{N}\\right) - 1\\right)} \\cos\\left(\\frac{\\pi a}{N} - \\frac{\\pi b}{N} + \\frac{\\pi c}{N}\\right) - \\cos\\left(-\\frac{\\pi a}{N} - \\frac{\\pi b}{N} + \\frac{\\pi c}{N}\\right) + 1\\right)} \\cos\\left(-\\frac{\\pi a}{N} + \\frac{\\pi b}{N} + \\frac{\\pi c}{N}\\right) + \\cos\\left(-\\frac{\\pi a}{N} - \\frac{\\pi b}{N} + \\frac{\\pi c}{N}\\right) - 1\\right)}}$$"
      ],
      "text/plain": [
       "-1/4*(cos(pi*a/N - pi*b/N + pi*c/N)*cos(pi*c/N)*sin(-pi*a/N - pi*b/N + pi*c/N) - (cos(pi*a/N - pi*b/N + pi*c/N)*cos(pi*c/N)*sin(-pi*a/N - pi*b/N + pi*c/N) - (cos(pi*a/N - pi*b/N + pi*c/N)*cos(pi*c/N)*sin(-pi*a/N - pi*b/N + pi*c/N) - (cos(-pi*a/N - pi*b/N + pi*c/N)*cos(pi*c/N) - cos(pi*c/N))*sin(pi*a/N - pi*b/N + pi*c/N) - cos(pi*c/N)*sin(-pi*a/N - pi*b/N + pi*c/N))*cos(-pi*a/N + pi*b/N + pi*c/N) - (cos(-pi*a/N - pi*b/N + pi*c/N)*cos(pi*c/N) - cos(pi*c/N))*sin(pi*a/N - pi*b/N + pi*c/N) + ((cos(-pi*a/N - pi*b/N + pi*c/N)*cos(pi*c/N) - cos(pi*c/N))*cos(pi*a/N - pi*b/N + pi*c/N) - cos(-pi*a/N - pi*b/N + pi*c/N)*cos(pi*c/N) + cos(pi*c/N))*sin(-pi*a/N + pi*b/N + pi*c/N) - cos(pi*c/N)*sin(-pi*a/N - pi*b/N + pi*c/N))*cos(pi*a/N + pi*b/N + pi*c/N) - (cos(pi*a/N - pi*b/N + pi*c/N)*cos(pi*c/N)*sin(-pi*a/N - pi*b/N + pi*c/N) - (cos(-pi*a/N - pi*b/N + pi*c/N)*cos(pi*c/N) - cos(pi*c/N))*sin(pi*a/N - pi*b/N + pi*c/N) - cos(pi*c/N)*sin(-pi*a/N - pi*b/N + pi*c/N))*cos(-pi*a/N + pi*b/N + pi*c/N) - ((cos(-pi*a/N - pi*b/N + pi*c/N)*cos(pi*c/N) - cos(pi*c/N))*cos(pi*a/N - pi*b/N + pi*c/N) - ((cos(-pi*a/N - pi*b/N + pi*c/N)*cos(pi*c/N) - cos(pi*c/N))*cos(pi*a/N - pi*b/N + pi*c/N) - cos(-pi*a/N - pi*b/N + pi*c/N)*cos(pi*c/N) + cos(pi*c/N))*cos(-pi*a/N + pi*b/N + pi*c/N) - cos(-pi*a/N - pi*b/N + pi*c/N)*cos(pi*c/N) + cos(pi*c/N))*sin(pi*a/N + pi*b/N + pi*c/N) - (cos(-pi*a/N - pi*b/N + pi*c/N)*cos(pi*c/N) - cos(pi*c/N))*sin(pi*a/N - pi*b/N + pi*c/N) + ((cos(-pi*a/N - pi*b/N + pi*c/N)*cos(pi*c/N) - cos(pi*c/N))*cos(pi*a/N - pi*b/N + pi*c/N) - cos(-pi*a/N - pi*b/N + pi*c/N)*cos(pi*c/N) + cos(pi*c/N))*sin(-pi*a/N + pi*b/N + pi*c/N) - cos(pi*c/N)*sin(-pi*a/N - pi*b/N + pi*c/N))/(((cos(-pi*a/N - pi*b/N + pi*c/N) - 1)*cos(pi*a/N - pi*b/N + pi*c/N) - ((cos(-pi*a/N - pi*b/N + pi*c/N) - 1)*cos(pi*a/N - pi*b/N + pi*c/N) - cos(-pi*a/N - pi*b/N + pi*c/N) + 1)*cos(-pi*a/N + pi*b/N + pi*c/N) - cos(-pi*a/N - pi*b/N + pi*c/N) + 1)*cos(pi*a/N + pi*b/N + pi*c/N) - (cos(-pi*a/N - pi*b/N + pi*c/N) - 1)*cos(pi*a/N - pi*b/N + pi*c/N) + ((cos(-pi*a/N - pi*b/N + pi*c/N) - 1)*cos(pi*a/N - pi*b/N + pi*c/N) - cos(-pi*a/N - pi*b/N + pi*c/N) + 1)*cos(-pi*a/N + pi*b/N + pi*c/N) + cos(-pi*a/N - pi*b/N + pi*c/N) - 1)"
      ]
     },
     "metadata": {},
     "output_type": "display_data"
    }
   ],
   "source": [
    "a,b, c, N = var('a','b', 'c', 'N')\n",
    "assume(a,b,c, N, 'integer')\n",
    "assume(a, 'even')\n",
    "assume(b, 'even')\n",
    "assume(c, 'odd')\n",
    "assume(1 <= c <=N)\n",
    "x,y, k = var('x','y', 'k')\n",
    "f = sum(sin((pi/N)*a*k)*sin((pi/N)*b*k)*sin((pi/N)*c*(k-1)),k,1,(N-1),hold=True)\n",
    "show(f.unhold())"
   ]
  },
  {
   "cell_type": "code",
   "execution_count": 17,
   "id": "c3602912",
   "metadata": {},
   "outputs": [],
   "source": [
    "forget()"
   ]
  },
  {
   "cell_type": "code",
   "execution_count": 18,
   "id": "8db8c20a",
   "metadata": {},
   "outputs": [
    {
     "data": {
      "text/html": [
       "<html><script type=\"math/tex; mode=display\">\\newcommand{\\Bold}[1]{\\mathbf{#1}}-\\frac{\\cos\\left(\\frac{\\pi a}{N} - \\frac{\\pi b}{N} + \\frac{\\pi c}{N}\\right) \\cos\\left(\\frac{\\pi c}{N}\\right) \\sin\\left(-\\frac{\\pi a}{N} - \\frac{\\pi b}{N} + \\frac{\\pi c}{N}\\right) - {\\left(\\cos\\left(\\frac{\\pi a}{N} - \\frac{\\pi b}{N} + \\frac{\\pi c}{N}\\right) \\cos\\left(\\frac{\\pi c}{N}\\right) \\sin\\left(-\\frac{\\pi a}{N} - \\frac{\\pi b}{N} + \\frac{\\pi c}{N}\\right) - {\\left(\\cos\\left(\\frac{\\pi a}{N} - \\frac{\\pi b}{N} + \\frac{\\pi c}{N}\\right) \\cos\\left(\\frac{\\pi c}{N}\\right) \\sin\\left(-\\frac{\\pi a}{N} - \\frac{\\pi b}{N} + \\frac{\\pi c}{N}\\right) - {\\left(\\cos\\left(-\\frac{\\pi a}{N} - \\frac{\\pi b}{N} + \\frac{\\pi c}{N}\\right) \\cos\\left(\\frac{\\pi c}{N}\\right) - \\cos\\left(\\frac{\\pi c}{N}\\right)\\right)} \\sin\\left(\\frac{\\pi a}{N} - \\frac{\\pi b}{N} + \\frac{\\pi c}{N}\\right) - \\cos\\left(\\frac{\\pi c}{N}\\right) \\sin\\left(-\\frac{\\pi a}{N} - \\frac{\\pi b}{N} + \\frac{\\pi c}{N}\\right)\\right)} \\cos\\left(-\\frac{\\pi a}{N} + \\frac{\\pi b}{N} + \\frac{\\pi c}{N}\\right) - {\\left(\\cos\\left(-\\frac{\\pi a}{N} - \\frac{\\pi b}{N} + \\frac{\\pi c}{N}\\right) \\cos\\left(\\frac{\\pi c}{N}\\right) - \\cos\\left(\\frac{\\pi c}{N}\\right)\\right)} \\sin\\left(\\frac{\\pi a}{N} - \\frac{\\pi b}{N} + \\frac{\\pi c}{N}\\right) + {\\left({\\left(\\cos\\left(-\\frac{\\pi a}{N} - \\frac{\\pi b}{N} + \\frac{\\pi c}{N}\\right) \\cos\\left(\\frac{\\pi c}{N}\\right) - \\cos\\left(\\frac{\\pi c}{N}\\right)\\right)} \\cos\\left(\\frac{\\pi a}{N} - \\frac{\\pi b}{N} + \\frac{\\pi c}{N}\\right) - \\cos\\left(-\\frac{\\pi a}{N} - \\frac{\\pi b}{N} + \\frac{\\pi c}{N}\\right) \\cos\\left(\\frac{\\pi c}{N}\\right) + \\cos\\left(\\frac{\\pi c}{N}\\right)\\right)} \\sin\\left(-\\frac{\\pi a}{N} + \\frac{\\pi b}{N} + \\frac{\\pi c}{N}\\right) - \\cos\\left(\\frac{\\pi c}{N}\\right) \\sin\\left(-\\frac{\\pi a}{N} - \\frac{\\pi b}{N} + \\frac{\\pi c}{N}\\right)\\right)} \\cos\\left(\\frac{\\pi a}{N} + \\frac{\\pi b}{N} + \\frac{\\pi c}{N}\\right) - {\\left(\\cos\\left(\\frac{\\pi a}{N} - \\frac{\\pi b}{N} + \\frac{\\pi c}{N}\\right) \\cos\\left(\\frac{\\pi c}{N}\\right) \\sin\\left(-\\frac{\\pi a}{N} - \\frac{\\pi b}{N} + \\frac{\\pi c}{N}\\right) - {\\left(\\cos\\left(-\\frac{\\pi a}{N} - \\frac{\\pi b}{N} + \\frac{\\pi c}{N}\\right) \\cos\\left(\\frac{\\pi c}{N}\\right) - \\cos\\left(\\frac{\\pi c}{N}\\right)\\right)} \\sin\\left(\\frac{\\pi a}{N} - \\frac{\\pi b}{N} + \\frac{\\pi c}{N}\\right) - \\cos\\left(\\frac{\\pi c}{N}\\right) \\sin\\left(-\\frac{\\pi a}{N} - \\frac{\\pi b}{N} + \\frac{\\pi c}{N}\\right)\\right)} \\cos\\left(-\\frac{\\pi a}{N} + \\frac{\\pi b}{N} + \\frac{\\pi c}{N}\\right) - {\\left({\\left(\\cos\\left(-\\frac{\\pi a}{N} - \\frac{\\pi b}{N} + \\frac{\\pi c}{N}\\right) \\cos\\left(\\frac{\\pi c}{N}\\right) - \\cos\\left(\\frac{\\pi c}{N}\\right)\\right)} \\cos\\left(\\frac{\\pi a}{N} - \\frac{\\pi b}{N} + \\frac{\\pi c}{N}\\right) - {\\left({\\left(\\cos\\left(-\\frac{\\pi a}{N} - \\frac{\\pi b}{N} + \\frac{\\pi c}{N}\\right) \\cos\\left(\\frac{\\pi c}{N}\\right) - \\cos\\left(\\frac{\\pi c}{N}\\right)\\right)} \\cos\\left(\\frac{\\pi a}{N} - \\frac{\\pi b}{N} + \\frac{\\pi c}{N}\\right) - \\cos\\left(-\\frac{\\pi a}{N} - \\frac{\\pi b}{N} + \\frac{\\pi c}{N}\\right) \\cos\\left(\\frac{\\pi c}{N}\\right) + \\cos\\left(\\frac{\\pi c}{N}\\right)\\right)} \\cos\\left(-\\frac{\\pi a}{N} + \\frac{\\pi b}{N} + \\frac{\\pi c}{N}\\right) - \\cos\\left(-\\frac{\\pi a}{N} - \\frac{\\pi b}{N} + \\frac{\\pi c}{N}\\right) \\cos\\left(\\frac{\\pi c}{N}\\right) + \\cos\\left(\\frac{\\pi c}{N}\\right)\\right)} \\sin\\left(\\frac{\\pi a}{N} + \\frac{\\pi b}{N} + \\frac{\\pi c}{N}\\right) - {\\left(\\cos\\left(-\\frac{\\pi a}{N} - \\frac{\\pi b}{N} + \\frac{\\pi c}{N}\\right) \\cos\\left(\\frac{\\pi c}{N}\\right) - \\cos\\left(\\frac{\\pi c}{N}\\right)\\right)} \\sin\\left(\\frac{\\pi a}{N} - \\frac{\\pi b}{N} + \\frac{\\pi c}{N}\\right) + {\\left({\\left(\\cos\\left(-\\frac{\\pi a}{N} - \\frac{\\pi b}{N} + \\frac{\\pi c}{N}\\right) \\cos\\left(\\frac{\\pi c}{N}\\right) - \\cos\\left(\\frac{\\pi c}{N}\\right)\\right)} \\cos\\left(\\frac{\\pi a}{N} - \\frac{\\pi b}{N} + \\frac{\\pi c}{N}\\right) - \\cos\\left(-\\frac{\\pi a}{N} - \\frac{\\pi b}{N} + \\frac{\\pi c}{N}\\right) \\cos\\left(\\frac{\\pi c}{N}\\right) + \\cos\\left(\\frac{\\pi c}{N}\\right)\\right)} \\sin\\left(-\\frac{\\pi a}{N} + \\frac{\\pi b}{N} + \\frac{\\pi c}{N}\\right) - \\cos\\left(\\frac{\\pi c}{N}\\right) \\sin\\left(-\\frac{\\pi a}{N} - \\frac{\\pi b}{N} + \\frac{\\pi c}{N}\\right)}{4 \\, {\\left({\\left({\\left(\\cos\\left(-\\frac{\\pi a}{N} - \\frac{\\pi b}{N} + \\frac{\\pi c}{N}\\right) - 1\\right)} \\cos\\left(\\frac{\\pi a}{N} - \\frac{\\pi b}{N} + \\frac{\\pi c}{N}\\right) - {\\left({\\left(\\cos\\left(-\\frac{\\pi a}{N} - \\frac{\\pi b}{N} + \\frac{\\pi c}{N}\\right) - 1\\right)} \\cos\\left(\\frac{\\pi a}{N} - \\frac{\\pi b}{N} + \\frac{\\pi c}{N}\\right) - \\cos\\left(-\\frac{\\pi a}{N} - \\frac{\\pi b}{N} + \\frac{\\pi c}{N}\\right) + 1\\right)} \\cos\\left(-\\frac{\\pi a}{N} + \\frac{\\pi b}{N} + \\frac{\\pi c}{N}\\right) - \\cos\\left(-\\frac{\\pi a}{N} - \\frac{\\pi b}{N} + \\frac{\\pi c}{N}\\right) + 1\\right)} \\cos\\left(\\frac{\\pi a}{N} + \\frac{\\pi b}{N} + \\frac{\\pi c}{N}\\right) - {\\left(\\cos\\left(-\\frac{\\pi a}{N} - \\frac{\\pi b}{N} + \\frac{\\pi c}{N}\\right) - 1\\right)} \\cos\\left(\\frac{\\pi a}{N} - \\frac{\\pi b}{N} + \\frac{\\pi c}{N}\\right) + {\\left({\\left(\\cos\\left(-\\frac{\\pi a}{N} - \\frac{\\pi b}{N} + \\frac{\\pi c}{N}\\right) - 1\\right)} \\cos\\left(\\frac{\\pi a}{N} - \\frac{\\pi b}{N} + \\frac{\\pi c}{N}\\right) - \\cos\\left(-\\frac{\\pi a}{N} - \\frac{\\pi b}{N} + \\frac{\\pi c}{N}\\right) + 1\\right)} \\cos\\left(-\\frac{\\pi a}{N} + \\frac{\\pi b}{N} + \\frac{\\pi c}{N}\\right) + \\cos\\left(-\\frac{\\pi a}{N} - \\frac{\\pi b}{N} + \\frac{\\pi c}{N}\\right) - 1\\right)}}</script></html>"
      ],
      "text/latex": [
       "$$\\newcommand{\\Bold}[1]{\\mathbf{#1}}-\\frac{\\cos\\left(\\frac{\\pi a}{N} - \\frac{\\pi b}{N} + \\frac{\\pi c}{N}\\right) \\cos\\left(\\frac{\\pi c}{N}\\right) \\sin\\left(-\\frac{\\pi a}{N} - \\frac{\\pi b}{N} + \\frac{\\pi c}{N}\\right) - {\\left(\\cos\\left(\\frac{\\pi a}{N} - \\frac{\\pi b}{N} + \\frac{\\pi c}{N}\\right) \\cos\\left(\\frac{\\pi c}{N}\\right) \\sin\\left(-\\frac{\\pi a}{N} - \\frac{\\pi b}{N} + \\frac{\\pi c}{N}\\right) - {\\left(\\cos\\left(\\frac{\\pi a}{N} - \\frac{\\pi b}{N} + \\frac{\\pi c}{N}\\right) \\cos\\left(\\frac{\\pi c}{N}\\right) \\sin\\left(-\\frac{\\pi a}{N} - \\frac{\\pi b}{N} + \\frac{\\pi c}{N}\\right) - {\\left(\\cos\\left(-\\frac{\\pi a}{N} - \\frac{\\pi b}{N} + \\frac{\\pi c}{N}\\right) \\cos\\left(\\frac{\\pi c}{N}\\right) - \\cos\\left(\\frac{\\pi c}{N}\\right)\\right)} \\sin\\left(\\frac{\\pi a}{N} - \\frac{\\pi b}{N} + \\frac{\\pi c}{N}\\right) - \\cos\\left(\\frac{\\pi c}{N}\\right) \\sin\\left(-\\frac{\\pi a}{N} - \\frac{\\pi b}{N} + \\frac{\\pi c}{N}\\right)\\right)} \\cos\\left(-\\frac{\\pi a}{N} + \\frac{\\pi b}{N} + \\frac{\\pi c}{N}\\right) - {\\left(\\cos\\left(-\\frac{\\pi a}{N} - \\frac{\\pi b}{N} + \\frac{\\pi c}{N}\\right) \\cos\\left(\\frac{\\pi c}{N}\\right) - \\cos\\left(\\frac{\\pi c}{N}\\right)\\right)} \\sin\\left(\\frac{\\pi a}{N} - \\frac{\\pi b}{N} + \\frac{\\pi c}{N}\\right) + {\\left({\\left(\\cos\\left(-\\frac{\\pi a}{N} - \\frac{\\pi b}{N} + \\frac{\\pi c}{N}\\right) \\cos\\left(\\frac{\\pi c}{N}\\right) - \\cos\\left(\\frac{\\pi c}{N}\\right)\\right)} \\cos\\left(\\frac{\\pi a}{N} - \\frac{\\pi b}{N} + \\frac{\\pi c}{N}\\right) - \\cos\\left(-\\frac{\\pi a}{N} - \\frac{\\pi b}{N} + \\frac{\\pi c}{N}\\right) \\cos\\left(\\frac{\\pi c}{N}\\right) + \\cos\\left(\\frac{\\pi c}{N}\\right)\\right)} \\sin\\left(-\\frac{\\pi a}{N} + \\frac{\\pi b}{N} + \\frac{\\pi c}{N}\\right) - \\cos\\left(\\frac{\\pi c}{N}\\right) \\sin\\left(-\\frac{\\pi a}{N} - \\frac{\\pi b}{N} + \\frac{\\pi c}{N}\\right)\\right)} \\cos\\left(\\frac{\\pi a}{N} + \\frac{\\pi b}{N} + \\frac{\\pi c}{N}\\right) - {\\left(\\cos\\left(\\frac{\\pi a}{N} - \\frac{\\pi b}{N} + \\frac{\\pi c}{N}\\right) \\cos\\left(\\frac{\\pi c}{N}\\right) \\sin\\left(-\\frac{\\pi a}{N} - \\frac{\\pi b}{N} + \\frac{\\pi c}{N}\\right) - {\\left(\\cos\\left(-\\frac{\\pi a}{N} - \\frac{\\pi b}{N} + \\frac{\\pi c}{N}\\right) \\cos\\left(\\frac{\\pi c}{N}\\right) - \\cos\\left(\\frac{\\pi c}{N}\\right)\\right)} \\sin\\left(\\frac{\\pi a}{N} - \\frac{\\pi b}{N} + \\frac{\\pi c}{N}\\right) - \\cos\\left(\\frac{\\pi c}{N}\\right) \\sin\\left(-\\frac{\\pi a}{N} - \\frac{\\pi b}{N} + \\frac{\\pi c}{N}\\right)\\right)} \\cos\\left(-\\frac{\\pi a}{N} + \\frac{\\pi b}{N} + \\frac{\\pi c}{N}\\right) - {\\left({\\left(\\cos\\left(-\\frac{\\pi a}{N} - \\frac{\\pi b}{N} + \\frac{\\pi c}{N}\\right) \\cos\\left(\\frac{\\pi c}{N}\\right) - \\cos\\left(\\frac{\\pi c}{N}\\right)\\right)} \\cos\\left(\\frac{\\pi a}{N} - \\frac{\\pi b}{N} + \\frac{\\pi c}{N}\\right) - {\\left({\\left(\\cos\\left(-\\frac{\\pi a}{N} - \\frac{\\pi b}{N} + \\frac{\\pi c}{N}\\right) \\cos\\left(\\frac{\\pi c}{N}\\right) - \\cos\\left(\\frac{\\pi c}{N}\\right)\\right)} \\cos\\left(\\frac{\\pi a}{N} - \\frac{\\pi b}{N} + \\frac{\\pi c}{N}\\right) - \\cos\\left(-\\frac{\\pi a}{N} - \\frac{\\pi b}{N} + \\frac{\\pi c}{N}\\right) \\cos\\left(\\frac{\\pi c}{N}\\right) + \\cos\\left(\\frac{\\pi c}{N}\\right)\\right)} \\cos\\left(-\\frac{\\pi a}{N} + \\frac{\\pi b}{N} + \\frac{\\pi c}{N}\\right) - \\cos\\left(-\\frac{\\pi a}{N} - \\frac{\\pi b}{N} + \\frac{\\pi c}{N}\\right) \\cos\\left(\\frac{\\pi c}{N}\\right) + \\cos\\left(\\frac{\\pi c}{N}\\right)\\right)} \\sin\\left(\\frac{\\pi a}{N} + \\frac{\\pi b}{N} + \\frac{\\pi c}{N}\\right) - {\\left(\\cos\\left(-\\frac{\\pi a}{N} - \\frac{\\pi b}{N} + \\frac{\\pi c}{N}\\right) \\cos\\left(\\frac{\\pi c}{N}\\right) - \\cos\\left(\\frac{\\pi c}{N}\\right)\\right)} \\sin\\left(\\frac{\\pi a}{N} - \\frac{\\pi b}{N} + \\frac{\\pi c}{N}\\right) + {\\left({\\left(\\cos\\left(-\\frac{\\pi a}{N} - \\frac{\\pi b}{N} + \\frac{\\pi c}{N}\\right) \\cos\\left(\\frac{\\pi c}{N}\\right) - \\cos\\left(\\frac{\\pi c}{N}\\right)\\right)} \\cos\\left(\\frac{\\pi a}{N} - \\frac{\\pi b}{N} + \\frac{\\pi c}{N}\\right) - \\cos\\left(-\\frac{\\pi a}{N} - \\frac{\\pi b}{N} + \\frac{\\pi c}{N}\\right) \\cos\\left(\\frac{\\pi c}{N}\\right) + \\cos\\left(\\frac{\\pi c}{N}\\right)\\right)} \\sin\\left(-\\frac{\\pi a}{N} + \\frac{\\pi b}{N} + \\frac{\\pi c}{N}\\right) - \\cos\\left(\\frac{\\pi c}{N}\\right) \\sin\\left(-\\frac{\\pi a}{N} - \\frac{\\pi b}{N} + \\frac{\\pi c}{N}\\right)}{4 \\, {\\left({\\left({\\left(\\cos\\left(-\\frac{\\pi a}{N} - \\frac{\\pi b}{N} + \\frac{\\pi c}{N}\\right) - 1\\right)} \\cos\\left(\\frac{\\pi a}{N} - \\frac{\\pi b}{N} + \\frac{\\pi c}{N}\\right) - {\\left({\\left(\\cos\\left(-\\frac{\\pi a}{N} - \\frac{\\pi b}{N} + \\frac{\\pi c}{N}\\right) - 1\\right)} \\cos\\left(\\frac{\\pi a}{N} - \\frac{\\pi b}{N} + \\frac{\\pi c}{N}\\right) - \\cos\\left(-\\frac{\\pi a}{N} - \\frac{\\pi b}{N} + \\frac{\\pi c}{N}\\right) + 1\\right)} \\cos\\left(-\\frac{\\pi a}{N} + \\frac{\\pi b}{N} + \\frac{\\pi c}{N}\\right) - \\cos\\left(-\\frac{\\pi a}{N} - \\frac{\\pi b}{N} + \\frac{\\pi c}{N}\\right) + 1\\right)} \\cos\\left(\\frac{\\pi a}{N} + \\frac{\\pi b}{N} + \\frac{\\pi c}{N}\\right) - {\\left(\\cos\\left(-\\frac{\\pi a}{N} - \\frac{\\pi b}{N} + \\frac{\\pi c}{N}\\right) - 1\\right)} \\cos\\left(\\frac{\\pi a}{N} - \\frac{\\pi b}{N} + \\frac{\\pi c}{N}\\right) + {\\left({\\left(\\cos\\left(-\\frac{\\pi a}{N} - \\frac{\\pi b}{N} + \\frac{\\pi c}{N}\\right) - 1\\right)} \\cos\\left(\\frac{\\pi a}{N} - \\frac{\\pi b}{N} + \\frac{\\pi c}{N}\\right) - \\cos\\left(-\\frac{\\pi a}{N} - \\frac{\\pi b}{N} + \\frac{\\pi c}{N}\\right) + 1\\right)} \\cos\\left(-\\frac{\\pi a}{N} + \\frac{\\pi b}{N} + \\frac{\\pi c}{N}\\right) + \\cos\\left(-\\frac{\\pi a}{N} - \\frac{\\pi b}{N} + \\frac{\\pi c}{N}\\right) - 1\\right)}}$$"
      ],
      "text/plain": [
       "-1/4*(cos(pi*a/N - pi*b/N + pi*c/N)*cos(pi*c/N)*sin(-pi*a/N - pi*b/N + pi*c/N) - (cos(pi*a/N - pi*b/N + pi*c/N)*cos(pi*c/N)*sin(-pi*a/N - pi*b/N + pi*c/N) - (cos(pi*a/N - pi*b/N + pi*c/N)*cos(pi*c/N)*sin(-pi*a/N - pi*b/N + pi*c/N) - (cos(-pi*a/N - pi*b/N + pi*c/N)*cos(pi*c/N) - cos(pi*c/N))*sin(pi*a/N - pi*b/N + pi*c/N) - cos(pi*c/N)*sin(-pi*a/N - pi*b/N + pi*c/N))*cos(-pi*a/N + pi*b/N + pi*c/N) - (cos(-pi*a/N - pi*b/N + pi*c/N)*cos(pi*c/N) - cos(pi*c/N))*sin(pi*a/N - pi*b/N + pi*c/N) + ((cos(-pi*a/N - pi*b/N + pi*c/N)*cos(pi*c/N) - cos(pi*c/N))*cos(pi*a/N - pi*b/N + pi*c/N) - cos(-pi*a/N - pi*b/N + pi*c/N)*cos(pi*c/N) + cos(pi*c/N))*sin(-pi*a/N + pi*b/N + pi*c/N) - cos(pi*c/N)*sin(-pi*a/N - pi*b/N + pi*c/N))*cos(pi*a/N + pi*b/N + pi*c/N) - (cos(pi*a/N - pi*b/N + pi*c/N)*cos(pi*c/N)*sin(-pi*a/N - pi*b/N + pi*c/N) - (cos(-pi*a/N - pi*b/N + pi*c/N)*cos(pi*c/N) - cos(pi*c/N))*sin(pi*a/N - pi*b/N + pi*c/N) - cos(pi*c/N)*sin(-pi*a/N - pi*b/N + pi*c/N))*cos(-pi*a/N + pi*b/N + pi*c/N) - ((cos(-pi*a/N - pi*b/N + pi*c/N)*cos(pi*c/N) - cos(pi*c/N))*cos(pi*a/N - pi*b/N + pi*c/N) - ((cos(-pi*a/N - pi*b/N + pi*c/N)*cos(pi*c/N) - cos(pi*c/N))*cos(pi*a/N - pi*b/N + pi*c/N) - cos(-pi*a/N - pi*b/N + pi*c/N)*cos(pi*c/N) + cos(pi*c/N))*cos(-pi*a/N + pi*b/N + pi*c/N) - cos(-pi*a/N - pi*b/N + pi*c/N)*cos(pi*c/N) + cos(pi*c/N))*sin(pi*a/N + pi*b/N + pi*c/N) - (cos(-pi*a/N - pi*b/N + pi*c/N)*cos(pi*c/N) - cos(pi*c/N))*sin(pi*a/N - pi*b/N + pi*c/N) + ((cos(-pi*a/N - pi*b/N + pi*c/N)*cos(pi*c/N) - cos(pi*c/N))*cos(pi*a/N - pi*b/N + pi*c/N) - cos(-pi*a/N - pi*b/N + pi*c/N)*cos(pi*c/N) + cos(pi*c/N))*sin(-pi*a/N + pi*b/N + pi*c/N) - cos(pi*c/N)*sin(-pi*a/N - pi*b/N + pi*c/N))/(((cos(-pi*a/N - pi*b/N + pi*c/N) - 1)*cos(pi*a/N - pi*b/N + pi*c/N) - ((cos(-pi*a/N - pi*b/N + pi*c/N) - 1)*cos(pi*a/N - pi*b/N + pi*c/N) - cos(-pi*a/N - pi*b/N + pi*c/N) + 1)*cos(-pi*a/N + pi*b/N + pi*c/N) - cos(-pi*a/N - pi*b/N + pi*c/N) + 1)*cos(pi*a/N + pi*b/N + pi*c/N) - (cos(-pi*a/N - pi*b/N + pi*c/N) - 1)*cos(pi*a/N - pi*b/N + pi*c/N) + ((cos(-pi*a/N - pi*b/N + pi*c/N) - 1)*cos(pi*a/N - pi*b/N + pi*c/N) - cos(-pi*a/N - pi*b/N + pi*c/N) + 1)*cos(-pi*a/N + pi*b/N + pi*c/N) + cos(-pi*a/N - pi*b/N + pi*c/N) - 1)"
      ]
     },
     "metadata": {},
     "output_type": "display_data"
    }
   ],
   "source": [
    "a,b, c, N = var('a','b', 'c', 'N')\n",
    "assume(a,b,c, N, 'integer')\n",
    "assume(a, 'odd')\n",
    "assume(b, 'odd')\n",
    "assume(c, 'odd')\n",
    "assume(1 <= c <=N)\n",
    "x,y, k = var('x','y', 'k')\n",
    "f = sum(sin((pi/N)*a*k)*sin((pi/N)*b*k)*sin((pi/N)*c*(k-1)),k,1,(N-1),hold=True)\n",
    "show(f.unhold())"
   ]
  },
  {
   "cell_type": "code",
   "execution_count": 19,
   "id": "c16c08c9",
   "metadata": {},
   "outputs": [],
   "source": [
    "forget()"
   ]
  },
  {
   "cell_type": "code",
   "execution_count": 20,
   "id": "3d812a86",
   "metadata": {},
   "outputs": [
    {
     "data": {
      "text/html": [
       "<html><script type=\"math/tex; mode=display\">\\newcommand{\\Bold}[1]{\\mathbf{#1}}0</script></html>"
      ],
      "text/latex": [
       "$$\\newcommand{\\Bold}[1]{\\mathbf{#1}}0$$"
      ],
      "text/plain": [
       "0"
      ]
     },
     "metadata": {},
     "output_type": "display_data"
    }
   ],
   "source": [
    "a,b, c, N = var('a','b', 'c', 'N')\n",
    "assume(a,b,c, N, 'integer')\n",
    "assume(a, 'odd')\n",
    "assume(b, 'odd')\n",
    "assume(c, 'even')\n",
    "assume(1 <= c <=N)\n",
    "x,y, k = var('x','y', 'k')\n",
    "f = sum(sin((pi/N)*a*k)*sin((pi/N)*b*k)*sin((pi/N)*c*(k-1)),k,1,(N-1),hold=True)\n",
    "show(f.unhold())"
   ]
  },
  {
   "cell_type": "code",
   "execution_count": 21,
   "id": "222e9a9e",
   "metadata": {},
   "outputs": [],
   "source": [
    "forget()"
   ]
  },
  {
   "cell_type": "markdown",
   "id": "72b9d9b3",
   "metadata": {},
   "source": [
    "We now check what happens if $a=b$"
   ]
  },
  {
   "cell_type": "code",
   "execution_count": 22,
   "id": "d842634d",
   "metadata": {},
   "outputs": [
    {
     "data": {
      "text/html": [
       "<html><script type=\"math/tex; mode=display\">\\newcommand{\\Bold}[1]{\\mathbf{#1}}0</script></html>"
      ],
      "text/latex": [
       "$$\\newcommand{\\Bold}[1]{\\mathbf{#1}}0$$"
      ],
      "text/plain": [
       "0"
      ]
     },
     "metadata": {},
     "output_type": "display_data"
    }
   ],
   "source": [
    "a,b, c, N = var('a','b', 'c', 'N')\n",
    "assume(a,b,c, N, 'integer')\n",
    "#assume(a, 'odd')\n",
    "#assume(b, 'odd')\n",
    "assume(c, 'even')\n",
    "assume(1 <= c <=N)\n",
    "x,y, k = var('x','y', 'k')\n",
    "f = sum(sin((pi/N)*a*k)*sin((pi/N)*a*k)*sin((pi/N)*c*(k-1)),k,1,(N-1),hold=True)\n",
    "show(f.unhold())"
   ]
  },
  {
   "cell_type": "code",
   "execution_count": 23,
   "id": "8f008973",
   "metadata": {},
   "outputs": [],
   "source": [
    "forget()"
   ]
  },
  {
   "cell_type": "code",
   "execution_count": 24,
   "id": "2b0fc172",
   "metadata": {},
   "outputs": [
    {
     "data": {
      "text/html": [
       "<html><script type=\"math/tex; mode=display\">\\newcommand{\\Bold}[1]{\\mathbf{#1}}\\frac{2 \\, \\cos\\left(-\\frac{2 \\, \\pi a}{N} + \\frac{\\pi c}{N}\\right) \\cos\\left(\\frac{\\pi c}{N}\\right) \\sin\\left(\\frac{\\pi c}{N}\\right) - {\\left(2 \\, \\cos\\left(-\\frac{2 \\, \\pi a}{N} + \\frac{\\pi c}{N}\\right) \\cos\\left(\\frac{\\pi c}{N}\\right) \\sin\\left(\\frac{\\pi c}{N}\\right) - {\\left(\\cos\\left(\\frac{\\pi c}{N}\\right)^{2} - \\cos\\left(\\frac{\\pi c}{N}\\right)\\right)} \\sin\\left(-\\frac{2 \\, \\pi a}{N} + \\frac{\\pi c}{N}\\right) - 2 \\, \\cos\\left(\\frac{\\pi c}{N}\\right) \\sin\\left(\\frac{\\pi c}{N}\\right)\\right)} \\cos\\left(\\frac{2 \\, \\pi a}{N} + \\frac{\\pi c}{N}\\right) + {\\left({\\left(\\cos\\left(\\frac{\\pi c}{N}\\right)^{2} - \\cos\\left(\\frac{\\pi c}{N}\\right)\\right)} \\cos\\left(-\\frac{2 \\, \\pi a}{N} + \\frac{\\pi c}{N}\\right) - \\cos\\left(\\frac{\\pi c}{N}\\right)^{2} + \\cos\\left(\\frac{\\pi c}{N}\\right)\\right)} \\sin\\left(\\frac{2 \\, \\pi a}{N} + \\frac{\\pi c}{N}\\right) - {\\left(\\cos\\left(\\frac{\\pi c}{N}\\right)^{2} - \\cos\\left(\\frac{\\pi c}{N}\\right)\\right)} \\sin\\left(-\\frac{2 \\, \\pi a}{N} + \\frac{\\pi c}{N}\\right) - 2 \\, \\cos\\left(\\frac{\\pi c}{N}\\right) \\sin\\left(\\frac{\\pi c}{N}\\right)}{4 \\, {\\left({\\left({\\left(\\cos\\left(\\frac{\\pi c}{N}\\right) - 1\\right)} \\cos\\left(-\\frac{2 \\, \\pi a}{N} + \\frac{\\pi c}{N}\\right) - \\cos\\left(\\frac{\\pi c}{N}\\right) + 1\\right)} \\cos\\left(\\frac{2 \\, \\pi a}{N} + \\frac{\\pi c}{N}\\right) - {\\left(\\cos\\left(\\frac{\\pi c}{N}\\right) - 1\\right)} \\cos\\left(-\\frac{2 \\, \\pi a}{N} + \\frac{\\pi c}{N}\\right) + \\cos\\left(\\frac{\\pi c}{N}\\right) - 1\\right)}}</script></html>"
      ],
      "text/latex": [
       "$$\\newcommand{\\Bold}[1]{\\mathbf{#1}}\\frac{2 \\, \\cos\\left(-\\frac{2 \\, \\pi a}{N} + \\frac{\\pi c}{N}\\right) \\cos\\left(\\frac{\\pi c}{N}\\right) \\sin\\left(\\frac{\\pi c}{N}\\right) - {\\left(2 \\, \\cos\\left(-\\frac{2 \\, \\pi a}{N} + \\frac{\\pi c}{N}\\right) \\cos\\left(\\frac{\\pi c}{N}\\right) \\sin\\left(\\frac{\\pi c}{N}\\right) - {\\left(\\cos\\left(\\frac{\\pi c}{N}\\right)^{2} - \\cos\\left(\\frac{\\pi c}{N}\\right)\\right)} \\sin\\left(-\\frac{2 \\, \\pi a}{N} + \\frac{\\pi c}{N}\\right) - 2 \\, \\cos\\left(\\frac{\\pi c}{N}\\right) \\sin\\left(\\frac{\\pi c}{N}\\right)\\right)} \\cos\\left(\\frac{2 \\, \\pi a}{N} + \\frac{\\pi c}{N}\\right) + {\\left({\\left(\\cos\\left(\\frac{\\pi c}{N}\\right)^{2} - \\cos\\left(\\frac{\\pi c}{N}\\right)\\right)} \\cos\\left(-\\frac{2 \\, \\pi a}{N} + \\frac{\\pi c}{N}\\right) - \\cos\\left(\\frac{\\pi c}{N}\\right)^{2} + \\cos\\left(\\frac{\\pi c}{N}\\right)\\right)} \\sin\\left(\\frac{2 \\, \\pi a}{N} + \\frac{\\pi c}{N}\\right) - {\\left(\\cos\\left(\\frac{\\pi c}{N}\\right)^{2} - \\cos\\left(\\frac{\\pi c}{N}\\right)\\right)} \\sin\\left(-\\frac{2 \\, \\pi a}{N} + \\frac{\\pi c}{N}\\right) - 2 \\, \\cos\\left(\\frac{\\pi c}{N}\\right) \\sin\\left(\\frac{\\pi c}{N}\\right)}{4 \\, {\\left({\\left({\\left(\\cos\\left(\\frac{\\pi c}{N}\\right) - 1\\right)} \\cos\\left(-\\frac{2 \\, \\pi a}{N} + \\frac{\\pi c}{N}\\right) - \\cos\\left(\\frac{\\pi c}{N}\\right) + 1\\right)} \\cos\\left(\\frac{2 \\, \\pi a}{N} + \\frac{\\pi c}{N}\\right) - {\\left(\\cos\\left(\\frac{\\pi c}{N}\\right) - 1\\right)} \\cos\\left(-\\frac{2 \\, \\pi a}{N} + \\frac{\\pi c}{N}\\right) + \\cos\\left(\\frac{\\pi c}{N}\\right) - 1\\right)}}$$"
      ],
      "text/plain": [
       "1/4*(2*cos(-2*pi*a/N + pi*c/N)*cos(pi*c/N)*sin(pi*c/N) - (2*cos(-2*pi*a/N + pi*c/N)*cos(pi*c/N)*sin(pi*c/N) - (cos(pi*c/N)^2 - cos(pi*c/N))*sin(-2*pi*a/N + pi*c/N) - 2*cos(pi*c/N)*sin(pi*c/N))*cos(2*pi*a/N + pi*c/N) + ((cos(pi*c/N)^2 - cos(pi*c/N))*cos(-2*pi*a/N + pi*c/N) - cos(pi*c/N)^2 + cos(pi*c/N))*sin(2*pi*a/N + pi*c/N) - (cos(pi*c/N)^2 - cos(pi*c/N))*sin(-2*pi*a/N + pi*c/N) - 2*cos(pi*c/N)*sin(pi*c/N))/(((cos(pi*c/N) - 1)*cos(-2*pi*a/N + pi*c/N) - cos(pi*c/N) + 1)*cos(2*pi*a/N + pi*c/N) - (cos(pi*c/N) - 1)*cos(-2*pi*a/N + pi*c/N) + cos(pi*c/N) - 1)"
      ]
     },
     "metadata": {},
     "output_type": "display_data"
    }
   ],
   "source": [
    "a,b, c, N = var('a','b', 'c', 'N')\n",
    "assume(a,b,c, N, 'integer')\n",
    "#assume(a, 'odd')\n",
    "#assume(b, 'odd')\n",
    "assume(c, 'odd')\n",
    "assume(1 <= c <=N)\n",
    "x,y, k = var('x','y', 'k')\n",
    "f = sum(sin((pi/N)*a*k)*sin((pi/N)*a*k)*sin((pi/N)*c*(k-1)),k,1,(N-1),hold=True)\n",
    "show(f.unhold())"
   ]
  },
  {
   "cell_type": "code",
   "execution_count": 25,
   "id": "5bbf3a59",
   "metadata": {},
   "outputs": [],
   "source": [
    "forget()"
   ]
  },
  {
   "cell_type": "markdown",
   "id": "f379480f",
   "metadata": {},
   "source": [
    "And now we see $b=c$"
   ]
  },
  {
   "cell_type": "code",
   "execution_count": 26,
   "id": "0cf55b9f",
   "metadata": {},
   "outputs": [
    {
     "data": {
      "text/html": [
       "<html><script type=\"math/tex; mode=display\">\\newcommand{\\Bold}[1]{\\mathbf{#1}}0</script></html>"
      ],
      "text/latex": [
       "$$\\newcommand{\\Bold}[1]{\\mathbf{#1}}0$$"
      ],
      "text/plain": [
       "0"
      ]
     },
     "metadata": {},
     "output_type": "display_data"
    }
   ],
   "source": [
    "a,b, c, N = var('a','b', 'c', 'N')\n",
    "assume(a,b,c, N, 'integer')\n",
    "assume(a, 'even')\n",
    "#assume(b, 'odd')\n",
    "assume(c, 'odd')\n",
    "assume(1 <= c <=N)\n",
    "x,y, k = var('x','y', 'k')\n",
    "f = sum(sin((pi/N)*a*k)*sin((pi/N)*c*k)*sin((pi/N)*c*(k-1)),k,1,(N-1),hold=True)\n",
    "show(f.unhold())"
   ]
  },
  {
   "cell_type": "code",
   "execution_count": 27,
   "id": "71a7b5ea",
   "metadata": {},
   "outputs": [],
   "source": [
    "forget()"
   ]
  },
  {
   "cell_type": "code",
   "execution_count": 28,
   "id": "15551a36",
   "metadata": {},
   "outputs": [
    {
     "data": {
      "text/html": [
       "<html><script type=\"math/tex; mode=display\">\\newcommand{\\Bold}[1]{\\mathbf{#1}}\\frac{2 \\, \\cos\\left(-\\frac{\\pi a}{N} + \\frac{2 \\, \\pi c}{N}\\right) \\cos\\left(\\frac{\\pi c}{N}\\right) \\sin\\left(\\frac{\\pi a}{N}\\right) + {\\left(\\cos\\left(\\frac{\\pi a}{N}\\right) - 1\\right)} \\cos\\left(\\frac{\\pi c}{N}\\right) \\sin\\left(-\\frac{\\pi a}{N} + \\frac{2 \\, \\pi c}{N}\\right) - {\\left(2 \\, \\cos\\left(-\\frac{\\pi a}{N} + \\frac{2 \\, \\pi c}{N}\\right) \\cos\\left(\\frac{\\pi c}{N}\\right) \\sin\\left(\\frac{\\pi a}{N}\\right) + {\\left(\\cos\\left(\\frac{\\pi a}{N}\\right) - 1\\right)} \\cos\\left(\\frac{\\pi c}{N}\\right) \\sin\\left(-\\frac{\\pi a}{N} + \\frac{2 \\, \\pi c}{N}\\right) - 2 \\, \\cos\\left(\\frac{\\pi c}{N}\\right) \\sin\\left(\\frac{\\pi a}{N}\\right)\\right)} \\cos\\left(\\frac{\\pi a}{N} + \\frac{2 \\, \\pi c}{N}\\right) + {\\left({\\left(\\cos\\left(\\frac{\\pi a}{N}\\right) - 1\\right)} \\cos\\left(-\\frac{\\pi a}{N} + \\frac{2 \\, \\pi c}{N}\\right) \\cos\\left(\\frac{\\pi c}{N}\\right) - {\\left(\\cos\\left(\\frac{\\pi a}{N}\\right) - 1\\right)} \\cos\\left(\\frac{\\pi c}{N}\\right)\\right)} \\sin\\left(\\frac{\\pi a}{N} + \\frac{2 \\, \\pi c}{N}\\right) - 2 \\, \\cos\\left(\\frac{\\pi c}{N}\\right) \\sin\\left(\\frac{\\pi a}{N}\\right)}{4 \\, {\\left({\\left({\\left(\\cos\\left(\\frac{\\pi a}{N}\\right) - 1\\right)} \\cos\\left(-\\frac{\\pi a}{N} + \\frac{2 \\, \\pi c}{N}\\right) - \\cos\\left(\\frac{\\pi a}{N}\\right) + 1\\right)} \\cos\\left(\\frac{\\pi a}{N} + \\frac{2 \\, \\pi c}{N}\\right) - {\\left(\\cos\\left(\\frac{\\pi a}{N}\\right) - 1\\right)} \\cos\\left(-\\frac{\\pi a}{N} + \\frac{2 \\, \\pi c}{N}\\right) + \\cos\\left(\\frac{\\pi a}{N}\\right) - 1\\right)}}</script></html>"
      ],
      "text/latex": [
       "$$\\newcommand{\\Bold}[1]{\\mathbf{#1}}\\frac{2 \\, \\cos\\left(-\\frac{\\pi a}{N} + \\frac{2 \\, \\pi c}{N}\\right) \\cos\\left(\\frac{\\pi c}{N}\\right) \\sin\\left(\\frac{\\pi a}{N}\\right) + {\\left(\\cos\\left(\\frac{\\pi a}{N}\\right) - 1\\right)} \\cos\\left(\\frac{\\pi c}{N}\\right) \\sin\\left(-\\frac{\\pi a}{N} + \\frac{2 \\, \\pi c}{N}\\right) - {\\left(2 \\, \\cos\\left(-\\frac{\\pi a}{N} + \\frac{2 \\, \\pi c}{N}\\right) \\cos\\left(\\frac{\\pi c}{N}\\right) \\sin\\left(\\frac{\\pi a}{N}\\right) + {\\left(\\cos\\left(\\frac{\\pi a}{N}\\right) - 1\\right)} \\cos\\left(\\frac{\\pi c}{N}\\right) \\sin\\left(-\\frac{\\pi a}{N} + \\frac{2 \\, \\pi c}{N}\\right) - 2 \\, \\cos\\left(\\frac{\\pi c}{N}\\right) \\sin\\left(\\frac{\\pi a}{N}\\right)\\right)} \\cos\\left(\\frac{\\pi a}{N} + \\frac{2 \\, \\pi c}{N}\\right) + {\\left({\\left(\\cos\\left(\\frac{\\pi a}{N}\\right) - 1\\right)} \\cos\\left(-\\frac{\\pi a}{N} + \\frac{2 \\, \\pi c}{N}\\right) \\cos\\left(\\frac{\\pi c}{N}\\right) - {\\left(\\cos\\left(\\frac{\\pi a}{N}\\right) - 1\\right)} \\cos\\left(\\frac{\\pi c}{N}\\right)\\right)} \\sin\\left(\\frac{\\pi a}{N} + \\frac{2 \\, \\pi c}{N}\\right) - 2 \\, \\cos\\left(\\frac{\\pi c}{N}\\right) \\sin\\left(\\frac{\\pi a}{N}\\right)}{4 \\, {\\left({\\left({\\left(\\cos\\left(\\frac{\\pi a}{N}\\right) - 1\\right)} \\cos\\left(-\\frac{\\pi a}{N} + \\frac{2 \\, \\pi c}{N}\\right) - \\cos\\left(\\frac{\\pi a}{N}\\right) + 1\\right)} \\cos\\left(\\frac{\\pi a}{N} + \\frac{2 \\, \\pi c}{N}\\right) - {\\left(\\cos\\left(\\frac{\\pi a}{N}\\right) - 1\\right)} \\cos\\left(-\\frac{\\pi a}{N} + \\frac{2 \\, \\pi c}{N}\\right) + \\cos\\left(\\frac{\\pi a}{N}\\right) - 1\\right)}}$$"
      ],
      "text/plain": [
       "1/4*(2*cos(-pi*a/N + 2*pi*c/N)*cos(pi*c/N)*sin(pi*a/N) + (cos(pi*a/N) - 1)*cos(pi*c/N)*sin(-pi*a/N + 2*pi*c/N) - (2*cos(-pi*a/N + 2*pi*c/N)*cos(pi*c/N)*sin(pi*a/N) + (cos(pi*a/N) - 1)*cos(pi*c/N)*sin(-pi*a/N + 2*pi*c/N) - 2*cos(pi*c/N)*sin(pi*a/N))*cos(pi*a/N + 2*pi*c/N) + ((cos(pi*a/N) - 1)*cos(-pi*a/N + 2*pi*c/N)*cos(pi*c/N) - (cos(pi*a/N) - 1)*cos(pi*c/N))*sin(pi*a/N + 2*pi*c/N) - 2*cos(pi*c/N)*sin(pi*a/N))/(((cos(pi*a/N) - 1)*cos(-pi*a/N + 2*pi*c/N) - cos(pi*a/N) + 1)*cos(pi*a/N + 2*pi*c/N) - (cos(pi*a/N) - 1)*cos(-pi*a/N + 2*pi*c/N) + cos(pi*a/N) - 1)"
      ]
     },
     "metadata": {},
     "output_type": "display_data"
    }
   ],
   "source": [
    "a,b, c, N = var('a','b', 'c', 'N')\n",
    "assume(a,b,c, N, 'integer')\n",
    "assume(a, 'odd')\n",
    "#assume(b, 'odd')\n",
    "assume(c, 'odd')\n",
    "assume(1 <= c <=N)\n",
    "x,y, k = var('x','y', 'k')\n",
    "f = sum(sin((pi/N)*a*k)*sin((pi/N)*c*k)*sin((pi/N)*c*(k-1)),k,1,(N-1),hold=True)\n",
    "show(f.unhold())"
   ]
  },
  {
   "cell_type": "code",
   "execution_count": null,
   "id": "41a81e35",
   "metadata": {},
   "outputs": [],
   "source": []
  }
 ],
 "metadata": {
  "kernelspec": {
   "display_name": "SageMath 9.5",
   "language": "sage",
   "name": "sagemath"
  },
  "language_info": {
   "codemirror_mode": {
    "name": "ipython",
    "version": 3
   },
   "file_extension": ".py",
   "mimetype": "text/x-python",
   "name": "python",
   "nbconvert_exporter": "python",
   "pygments_lexer": "ipython3",
   "version": "3.10.6"
  }
 },
 "nbformat": 4,
 "nbformat_minor": 5
}
